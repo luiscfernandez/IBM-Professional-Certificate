{
 "cells": [
  {
   "cell_type": "markdown",
   "metadata": {},
   "source": [
    "<p style=\"text-align:center\">\n",
    "    <a href=\"https://skills.network/?utm_medium=Exinfluencer&utm_source=Exinfluencer&utm_content=000026UJ&utm_term=10006555&utm_id=NA-SkillsNetwork-Channel-SkillsNetworkCoursesIBMDeveloperSkillsNetworkPY0220ENSkillsNetwork900-2022-01-01\" target=\"_blank\">\n",
    "    <img src=\"https://cf-courses-data.s3.us.cloud-object-storage.appdomain.cloud/assets/logos/SN_web_lightmode.png\" width=\"200\" alt=\"Skills Network Logo\">\n",
    "    </a>\n",
    "</p>\n"
   ]
  },
  {
   "cell_type": "markdown",
   "metadata": {},
   "source": [
    "<h1>Extracting and Visualizing Stock Data</h1>\n",
    "<h2>Description</h2>\n"
   ]
  },
  {
   "cell_type": "markdown",
   "metadata": {},
   "source": [
    "Extracting essential data from a dataset and displaying it is a necessary part of data science; therefore individuals can make correct decisions based on the data. In this assignment, you will extract some stock data, you will then display this data in a graph.\n"
   ]
  },
  {
   "cell_type": "markdown",
   "metadata": {},
   "source": [
    "<h2>Table of Contents</h2>\n",
    "<div class=\"alert alert-block alert-info\" style=\"margin-top: 20px\">\n",
    "    <ul>\n",
    "        <li>Define a Function that Makes a Graph</li>\n",
    "        <li>Question 1: Use yfinance to Extract Stock Data</li>\n",
    "        <li>Question 2: Use Webscraping to Extract Tesla Revenue Data</li>\n",
    "        <li>Question 3: Use yfinance to Extract Stock Data</li>\n",
    "        <li>Question 4: Use Webscraping to Extract GME Revenue Data</li>\n",
    "        <li>Question 5: Plot Tesla Stock Graph</li>\n",
    "        <li>Question 6: Plot GameStop Stock Graph</li>\n",
    "    </ul>\n",
    "<p>\n",
    "    Estimated Time Needed: <strong>30 min</strong></p>\n",
    "</div>\n",
    "\n",
    "<hr>\n"
   ]
  },
  {
   "cell_type": "markdown",
   "metadata": {},
   "source": [
    "***Note***:- If you are working in IBM Cloud Watson Studio, please replace the command for installing nbformat from `!pip install nbformat==4.2.0` to simply `!pip install nbformat`\n"
   ]
  },
  {
   "cell_type": "code",
   "execution_count": 1,
   "metadata": {},
   "outputs": [],
   "source": [
    "#!pip install yfinance==0.1.67\n",
    "#!mamba install bs4==4.10.0 -y\n",
    "#!pip install nbformat==4.2.0"
   ]
  },
  {
   "cell_type": "code",
   "execution_count": 2,
   "metadata": {},
   "outputs": [],
   "source": [
    "import yfinance as yf\n",
    "import pandas as pd\n",
    "import requests\n",
    "from bs4 import BeautifulSoup\n",
    "import plotly.graph_objects as go\n",
    "from plotly.subplots import make_subplots"
   ]
  },
  {
   "cell_type": "markdown",
   "metadata": {},
   "source": [
    "In Python, you can ignore warnings using the warnings module. You can use the filterwarnings function to filter or ignore specific warning messages or categories.\n"
   ]
  },
  {
   "cell_type": "code",
   "execution_count": 3,
   "metadata": {},
   "outputs": [],
   "source": [
    "import warnings\n",
    "# Ignore all warnings\n",
    "warnings.filterwarnings(\"ignore\", category=FutureWarning)"
   ]
  },
  {
   "cell_type": "markdown",
   "metadata": {},
   "source": [
    "## Define Graphing Function\n"
   ]
  },
  {
   "cell_type": "markdown",
   "metadata": {},
   "source": [
    "In this section, we define the function `make_graph`. You don't have to know how the function works, you should only care about the inputs. It takes a dataframe with stock data (dataframe must contain Date and Close columns), a dataframe with revenue data (dataframe must contain Date and Revenue columns), and the name of the stock.\n"
   ]
  },
  {
   "cell_type": "code",
   "execution_count": 4,
   "metadata": {},
   "outputs": [],
   "source": [
    "def make_graph(stock_data, revenue_data, stock):\n",
    "    fig = make_subplots(rows=2, cols=1, shared_xaxes=True, subplot_titles=(\"Historical Share Price\", \"Historical Revenue\"), vertical_spacing = .3)\n",
    "    stock_data_specific = stock_data[stock_data.Date <= '2021--06-14']\n",
    "    revenue_data_specific = revenue_data[revenue_data.Date <= '2021-04-30']\n",
    "    fig.add_trace(go.Scatter(x=pd.to_datetime(stock_data_specific.Date), y=stock_data_specific.Close.astype(\"float\"), name=\"Share Price\"), row=1, col=1)\n",
    "    fig.add_trace(go.Scatter(x=pd.to_datetime(revenue_data_specific.Date), y=revenue_data_specific.Revenue.astype(\"float\"), name=\"Revenue\"), row=2, col=1)\n",
    "    fig.update_xaxes(title_text=\"Date\", row=1, col=1)\n",
    "    fig.update_xaxes(title_text=\"Date\", row=2, col=1)\n",
    "    fig.update_yaxes(title_text=\"Price ($US)\", row=1, col=1)\n",
    "    fig.update_yaxes(title_text=\"Revenue ($US Millions)\", row=2, col=1)\n",
    "    fig.update_layout(showlegend=False,\n",
    "    height=900,\n",
    "    title=stock,\n",
    "    xaxis_rangeslider_visible=True)\n",
    "    fig.show('svg');\n",
    "    "
   ]
  },
  {
   "cell_type": "markdown",
   "metadata": {},
   "source": [
    "## Question 1: Use yfinance to Extract Stock Data\n"
   ]
  },
  {
   "cell_type": "markdown",
   "metadata": {},
   "source": [
    "Using the `Ticker` function enter the ticker symbol of the stock we want to extract data on to create a ticker object. The stock is Tesla and its ticker symbol is `TSLA`.\n"
   ]
  },
  {
   "cell_type": "code",
   "execution_count": 5,
   "metadata": {},
   "outputs": [],
   "source": [
    "tesla = yf.Ticker('TSLA')"
   ]
  },
  {
   "cell_type": "markdown",
   "metadata": {},
   "source": [
    "Using the ticker object and the function `history` extract stock information and save it in a dataframe named `tesla_data`. Set the `period` parameter to `max` so we get information for the maximum amount of time.\n"
   ]
  },
  {
   "cell_type": "code",
   "execution_count": 6,
   "metadata": {},
   "outputs": [],
   "source": [
    "tesla_data = tesla.history(period = 'max')"
   ]
  },
  {
   "cell_type": "markdown",
   "metadata": {},
   "source": [
    "**Reset the index** using the `reset_index(inplace=True)` function on the tesla_data DataFrame and display the first five rows of the `tesla_data` dataframe using the `head` function. Take a screenshot of the results and code from the beginning of Question 1 to the results below.\n"
   ]
  },
  {
   "cell_type": "code",
   "execution_count": 7,
   "metadata": {},
   "outputs": [
    {
     "data": {
      "text/html": [
       "<div>\n",
       "<style scoped>\n",
       "    .dataframe tbody tr th:only-of-type {\n",
       "        vertical-align: middle;\n",
       "    }\n",
       "\n",
       "    .dataframe tbody tr th {\n",
       "        vertical-align: top;\n",
       "    }\n",
       "\n",
       "    .dataframe thead th {\n",
       "        text-align: right;\n",
       "    }\n",
       "</style>\n",
       "<table border=\"1\" class=\"dataframe\">\n",
       "  <thead>\n",
       "    <tr style=\"text-align: right;\">\n",
       "      <th></th>\n",
       "      <th>Date</th>\n",
       "      <th>Open</th>\n",
       "      <th>High</th>\n",
       "      <th>Low</th>\n",
       "      <th>Close</th>\n",
       "      <th>Volume</th>\n",
       "      <th>Dividends</th>\n",
       "      <th>Stock Splits</th>\n",
       "    </tr>\n",
       "  </thead>\n",
       "  <tbody>\n",
       "    <tr>\n",
       "      <th>0</th>\n",
       "      <td>2010-06-29 00:00:00-04:00</td>\n",
       "      <td>1.266667</td>\n",
       "      <td>1.666667</td>\n",
       "      <td>1.169333</td>\n",
       "      <td>1.592667</td>\n",
       "      <td>281494500</td>\n",
       "      <td>0.0</td>\n",
       "      <td>0.0</td>\n",
       "    </tr>\n",
       "    <tr>\n",
       "      <th>1</th>\n",
       "      <td>2010-06-30 00:00:00-04:00</td>\n",
       "      <td>1.719333</td>\n",
       "      <td>2.028000</td>\n",
       "      <td>1.553333</td>\n",
       "      <td>1.588667</td>\n",
       "      <td>257806500</td>\n",
       "      <td>0.0</td>\n",
       "      <td>0.0</td>\n",
       "    </tr>\n",
       "    <tr>\n",
       "      <th>2</th>\n",
       "      <td>2010-07-01 00:00:00-04:00</td>\n",
       "      <td>1.666667</td>\n",
       "      <td>1.728000</td>\n",
       "      <td>1.351333</td>\n",
       "      <td>1.464000</td>\n",
       "      <td>123282000</td>\n",
       "      <td>0.0</td>\n",
       "      <td>0.0</td>\n",
       "    </tr>\n",
       "    <tr>\n",
       "      <th>3</th>\n",
       "      <td>2010-07-02 00:00:00-04:00</td>\n",
       "      <td>1.533333</td>\n",
       "      <td>1.540000</td>\n",
       "      <td>1.247333</td>\n",
       "      <td>1.280000</td>\n",
       "      <td>77097000</td>\n",
       "      <td>0.0</td>\n",
       "      <td>0.0</td>\n",
       "    </tr>\n",
       "    <tr>\n",
       "      <th>4</th>\n",
       "      <td>2010-07-06 00:00:00-04:00</td>\n",
       "      <td>1.333333</td>\n",
       "      <td>1.333333</td>\n",
       "      <td>1.055333</td>\n",
       "      <td>1.074000</td>\n",
       "      <td>103003500</td>\n",
       "      <td>0.0</td>\n",
       "      <td>0.0</td>\n",
       "    </tr>\n",
       "  </tbody>\n",
       "</table>\n",
       "</div>"
      ],
      "text/plain": [
       "                       Date      Open      High       Low     Close  \\\n",
       "0 2010-06-29 00:00:00-04:00  1.266667  1.666667  1.169333  1.592667   \n",
       "1 2010-06-30 00:00:00-04:00  1.719333  2.028000  1.553333  1.588667   \n",
       "2 2010-07-01 00:00:00-04:00  1.666667  1.728000  1.351333  1.464000   \n",
       "3 2010-07-02 00:00:00-04:00  1.533333  1.540000  1.247333  1.280000   \n",
       "4 2010-07-06 00:00:00-04:00  1.333333  1.333333  1.055333  1.074000   \n",
       "\n",
       "      Volume  Dividends  Stock Splits  \n",
       "0  281494500        0.0           0.0  \n",
       "1  257806500        0.0           0.0  \n",
       "2  123282000        0.0           0.0  \n",
       "3   77097000        0.0           0.0  \n",
       "4  103003500        0.0           0.0  "
      ]
     },
     "execution_count": 7,
     "metadata": {},
     "output_type": "execute_result"
    }
   ],
   "source": [
    "tesla_data.reset_index(inplace=True)\n",
    "tesla_data.head(5)"
   ]
  },
  {
   "cell_type": "markdown",
   "metadata": {},
   "source": [
    "## Question 2: Use Webscraping to Extract Tesla Revenue Data\n"
   ]
  },
  {
   "cell_type": "markdown",
   "metadata": {},
   "source": [
    "Use the `requests` library to download the webpage https://cf-courses-data.s3.us.cloud-object-storage.appdomain.cloud/IBMDeveloperSkillsNetwork-PY0220EN-SkillsNetwork/labs/project/revenue.htm Save the text of the response as a variable named `html_data`.\n"
   ]
  },
  {
   "cell_type": "code",
   "execution_count": 8,
   "metadata": {},
   "outputs": [],
   "source": [
    "url = 'https://cf-courses-data.s3.us.cloud-object-storage.appdomain.cloud/IBMDeveloperSkillsNetwork-PY0220EN-SkillsNetwork/labs/project/revenue.htm' \n",
    "html_data = requests.get(url).text"
   ]
  },
  {
   "cell_type": "markdown",
   "metadata": {},
   "source": [
    "Parse the html data using `beautiful_soup`.\n"
   ]
  },
  {
   "cell_type": "code",
   "execution_count": 9,
   "metadata": {},
   "outputs": [],
   "source": [
    "beautiful_soup = BeautifulSoup(html_data,'html5lib')\n"
   ]
  },
  {
   "cell_type": "markdown",
   "metadata": {},
   "source": [
    "Using `BeautifulSoup` or the `read_html` function extract the table with `Tesla Revenue` and store it into a dataframe named `tesla_revenue`. The dataframe should have columns `Date` and `Revenue`.\n"
   ]
  },
  {
   "cell_type": "markdown",
   "metadata": {},
   "source": [
    "<details><summary>Click here if you need help locating the table</summary>\n",
    "\n",
    "```\n",
    "    \n",
    "Below is the code to isolate the table, you will now need to loop through the rows and columns like in the previous lab\n",
    "    \n",
    "soup.find_all(\"tbody\")[1]\n",
    "    \n",
    "If you want to use the read_html function the table is located at index 1\n",
    "\n",
    "\n",
    "```\n",
    "\n",
    "</details>\n"
   ]
  },
  {
   "cell_type": "code",
   "execution_count": 10,
   "metadata": {},
   "outputs": [
    {
     "data": {
      "text/html": [
       "<div>\n",
       "<style scoped>\n",
       "    .dataframe tbody tr th:only-of-type {\n",
       "        vertical-align: middle;\n",
       "    }\n",
       "\n",
       "    .dataframe tbody tr th {\n",
       "        vertical-align: top;\n",
       "    }\n",
       "\n",
       "    .dataframe thead th {\n",
       "        text-align: right;\n",
       "    }\n",
       "</style>\n",
       "<table border=\"1\" class=\"dataframe\">\n",
       "  <thead>\n",
       "    <tr style=\"text-align: right;\">\n",
       "      <th></th>\n",
       "      <th>Date</th>\n",
       "      <th>Revenue</th>\n",
       "    </tr>\n",
       "  </thead>\n",
       "  <tbody>\n",
       "    <tr>\n",
       "      <th>0</th>\n",
       "      <td>2021</td>\n",
       "      <td>$53,823</td>\n",
       "    </tr>\n",
       "    <tr>\n",
       "      <th>1</th>\n",
       "      <td>2020</td>\n",
       "      <td>$31,536</td>\n",
       "    </tr>\n",
       "    <tr>\n",
       "      <th>2</th>\n",
       "      <td>2019</td>\n",
       "      <td>$24,578</td>\n",
       "    </tr>\n",
       "    <tr>\n",
       "      <th>3</th>\n",
       "      <td>2018</td>\n",
       "      <td>$21,461</td>\n",
       "    </tr>\n",
       "    <tr>\n",
       "      <th>4</th>\n",
       "      <td>2017</td>\n",
       "      <td>$11,759</td>\n",
       "    </tr>\n",
       "    <tr>\n",
       "      <th>5</th>\n",
       "      <td>2016</td>\n",
       "      <td>$7,000</td>\n",
       "    </tr>\n",
       "    <tr>\n",
       "      <th>6</th>\n",
       "      <td>2015</td>\n",
       "      <td>$4,046</td>\n",
       "    </tr>\n",
       "    <tr>\n",
       "      <th>7</th>\n",
       "      <td>2014</td>\n",
       "      <td>$3,198</td>\n",
       "    </tr>\n",
       "    <tr>\n",
       "      <th>8</th>\n",
       "      <td>2013</td>\n",
       "      <td>$2,013</td>\n",
       "    </tr>\n",
       "    <tr>\n",
       "      <th>9</th>\n",
       "      <td>2012</td>\n",
       "      <td>$413</td>\n",
       "    </tr>\n",
       "    <tr>\n",
       "      <th>10</th>\n",
       "      <td>2011</td>\n",
       "      <td>$204</td>\n",
       "    </tr>\n",
       "    <tr>\n",
       "      <th>11</th>\n",
       "      <td>2010</td>\n",
       "      <td>$117</td>\n",
       "    </tr>\n",
       "    <tr>\n",
       "      <th>12</th>\n",
       "      <td>2009</td>\n",
       "      <td>$112</td>\n",
       "    </tr>\n",
       "  </tbody>\n",
       "</table>\n",
       "</div>"
      ],
      "text/plain": [
       "    Date  Revenue\n",
       "0   2021  $53,823\n",
       "1   2020  $31,536\n",
       "2   2019  $24,578\n",
       "3   2018  $21,461\n",
       "4   2017  $11,759\n",
       "5   2016   $7,000\n",
       "6   2015   $4,046\n",
       "7   2014   $3,198\n",
       "8   2013   $2,013\n",
       "9   2012     $413\n",
       "10  2011     $204\n",
       "11  2010     $117\n",
       "12  2009     $112"
      ]
     },
     "execution_count": 10,
     "metadata": {},
     "output_type": "execute_result"
    }
   ],
   "source": [
    "tesla_revenue = pd.DataFrame(columns= ['Date','Revenue'])\n",
    "for row in beautiful_soup.find(\"tbody\").find_all(\"tr\"):\n",
    "    col = row.find_all(\"td\")\n",
    "    date = col[0].text\n",
    "    revenue = col[1].text\n",
    "    s= pd.Series({'Date':date,'Revenue':revenue})\n",
    "    tesla_revenue = pd.concat([tesla_revenue,s.to_frame().T],ignore_index=True)\n",
    "tesla_revenue"
   ]
  },
  {
   "cell_type": "markdown",
   "metadata": {},
   "source": [
    "Execute the following line to remove the comma and dollar sign from the `Revenue` column. \n"
   ]
  },
  {
   "cell_type": "code",
   "execution_count": 11,
   "metadata": {},
   "outputs": [],
   "source": [
    "tesla_revenue[\"Revenue\"] = tesla_revenue['Revenue'].str.replace(',|\\$',\"\",regex=True)"
   ]
  },
  {
   "cell_type": "markdown",
   "metadata": {},
   "source": [
    "Execute the following lines to remove an null or empty strings in the Revenue column.\n"
   ]
  },
  {
   "cell_type": "code",
   "execution_count": 12,
   "metadata": {},
   "outputs": [],
   "source": [
    "tesla_revenue.dropna(inplace=True)\n",
    "\n",
    "tesla_revenue = tesla_revenue[tesla_revenue['Revenue'] != \"\"]"
   ]
  },
  {
   "cell_type": "markdown",
   "metadata": {},
   "source": [
    "Display the last 5 row of the `tesla_revenue` dataframe using the `tail` function. Take a screenshot of the results.\n"
   ]
  },
  {
   "cell_type": "code",
   "execution_count": 13,
   "metadata": {},
   "outputs": [
    {
     "data": {
      "text/html": [
       "<div>\n",
       "<style scoped>\n",
       "    .dataframe tbody tr th:only-of-type {\n",
       "        vertical-align: middle;\n",
       "    }\n",
       "\n",
       "    .dataframe tbody tr th {\n",
       "        vertical-align: top;\n",
       "    }\n",
       "\n",
       "    .dataframe thead th {\n",
       "        text-align: right;\n",
       "    }\n",
       "</style>\n",
       "<table border=\"1\" class=\"dataframe\">\n",
       "  <thead>\n",
       "    <tr style=\"text-align: right;\">\n",
       "      <th></th>\n",
       "      <th>Date</th>\n",
       "      <th>Revenue</th>\n",
       "    </tr>\n",
       "  </thead>\n",
       "  <tbody>\n",
       "    <tr>\n",
       "      <th>8</th>\n",
       "      <td>2013</td>\n",
       "      <td>2013</td>\n",
       "    </tr>\n",
       "    <tr>\n",
       "      <th>9</th>\n",
       "      <td>2012</td>\n",
       "      <td>413</td>\n",
       "    </tr>\n",
       "    <tr>\n",
       "      <th>10</th>\n",
       "      <td>2011</td>\n",
       "      <td>204</td>\n",
       "    </tr>\n",
       "    <tr>\n",
       "      <th>11</th>\n",
       "      <td>2010</td>\n",
       "      <td>117</td>\n",
       "    </tr>\n",
       "    <tr>\n",
       "      <th>12</th>\n",
       "      <td>2009</td>\n",
       "      <td>112</td>\n",
       "    </tr>\n",
       "  </tbody>\n",
       "</table>\n",
       "</div>"
      ],
      "text/plain": [
       "    Date Revenue\n",
       "8   2013    2013\n",
       "9   2012     413\n",
       "10  2011     204\n",
       "11  2010     117\n",
       "12  2009     112"
      ]
     },
     "execution_count": 13,
     "metadata": {},
     "output_type": "execute_result"
    }
   ],
   "source": [
    "tesla_revenue.tail(5)"
   ]
  },
  {
   "cell_type": "markdown",
   "metadata": {},
   "source": [
    "## Question 3: Use yfinance to Extract Stock Data\n"
   ]
  },
  {
   "cell_type": "markdown",
   "metadata": {},
   "source": [
    "Using the `Ticker` function enter the ticker symbol of the stock we want to extract data on to create a ticker object. The stock is GameStop and its ticker symbol is `GME`.\n"
   ]
  },
  {
   "cell_type": "code",
   "execution_count": 14,
   "metadata": {},
   "outputs": [],
   "source": [
    "gamestop = yf.Ticker('GME')"
   ]
  },
  {
   "cell_type": "markdown",
   "metadata": {},
   "source": [
    "Using the ticker object and the function `history` extract stock information and save it in a dataframe named `gme_data`. Set the `period` parameter to `max` so we get information for the maximum amount of time.\n"
   ]
  },
  {
   "cell_type": "code",
   "execution_count": 15,
   "metadata": {},
   "outputs": [],
   "source": [
    "gme_data  = gamestop.history(period='max')"
   ]
  },
  {
   "cell_type": "markdown",
   "metadata": {},
   "source": [
    "**Reset the index** using the `reset_index(inplace=True)` function on the gme_data DataFrame and display the first five rows of the `gme_data` dataframe using the `head` function. Take a screenshot of the results and code from the beginning of Question 3 to the results below.\n"
   ]
  },
  {
   "cell_type": "code",
   "execution_count": 16,
   "metadata": {},
   "outputs": [
    {
     "data": {
      "text/html": [
       "<div>\n",
       "<style scoped>\n",
       "    .dataframe tbody tr th:only-of-type {\n",
       "        vertical-align: middle;\n",
       "    }\n",
       "\n",
       "    .dataframe tbody tr th {\n",
       "        vertical-align: top;\n",
       "    }\n",
       "\n",
       "    .dataframe thead th {\n",
       "        text-align: right;\n",
       "    }\n",
       "</style>\n",
       "<table border=\"1\" class=\"dataframe\">\n",
       "  <thead>\n",
       "    <tr style=\"text-align: right;\">\n",
       "      <th></th>\n",
       "      <th>Date</th>\n",
       "      <th>Open</th>\n",
       "      <th>High</th>\n",
       "      <th>Low</th>\n",
       "      <th>Close</th>\n",
       "      <th>Volume</th>\n",
       "      <th>Dividends</th>\n",
       "      <th>Stock Splits</th>\n",
       "    </tr>\n",
       "  </thead>\n",
       "  <tbody>\n",
       "    <tr>\n",
       "      <th>0</th>\n",
       "      <td>2002-02-13 00:00:00-05:00</td>\n",
       "      <td>1.620128</td>\n",
       "      <td>1.693350</td>\n",
       "      <td>1.603296</td>\n",
       "      <td>1.691666</td>\n",
       "      <td>76216000</td>\n",
       "      <td>0.0</td>\n",
       "      <td>0.0</td>\n",
       "    </tr>\n",
       "    <tr>\n",
       "      <th>1</th>\n",
       "      <td>2002-02-14 00:00:00-05:00</td>\n",
       "      <td>1.712707</td>\n",
       "      <td>1.716074</td>\n",
       "      <td>1.670626</td>\n",
       "      <td>1.683250</td>\n",
       "      <td>11021600</td>\n",
       "      <td>0.0</td>\n",
       "      <td>0.0</td>\n",
       "    </tr>\n",
       "    <tr>\n",
       "      <th>2</th>\n",
       "      <td>2002-02-15 00:00:00-05:00</td>\n",
       "      <td>1.683250</td>\n",
       "      <td>1.687458</td>\n",
       "      <td>1.658001</td>\n",
       "      <td>1.674834</td>\n",
       "      <td>8389600</td>\n",
       "      <td>0.0</td>\n",
       "      <td>0.0</td>\n",
       "    </tr>\n",
       "    <tr>\n",
       "      <th>3</th>\n",
       "      <td>2002-02-19 00:00:00-05:00</td>\n",
       "      <td>1.666418</td>\n",
       "      <td>1.666418</td>\n",
       "      <td>1.578047</td>\n",
       "      <td>1.607504</td>\n",
       "      <td>7410400</td>\n",
       "      <td>0.0</td>\n",
       "      <td>0.0</td>\n",
       "    </tr>\n",
       "    <tr>\n",
       "      <th>4</th>\n",
       "      <td>2002-02-20 00:00:00-05:00</td>\n",
       "      <td>1.615920</td>\n",
       "      <td>1.662210</td>\n",
       "      <td>1.603296</td>\n",
       "      <td>1.662210</td>\n",
       "      <td>6892800</td>\n",
       "      <td>0.0</td>\n",
       "      <td>0.0</td>\n",
       "    </tr>\n",
       "  </tbody>\n",
       "</table>\n",
       "</div>"
      ],
      "text/plain": [
       "                       Date      Open      High       Low     Close    Volume  \\\n",
       "0 2002-02-13 00:00:00-05:00  1.620128  1.693350  1.603296  1.691666  76216000   \n",
       "1 2002-02-14 00:00:00-05:00  1.712707  1.716074  1.670626  1.683250  11021600   \n",
       "2 2002-02-15 00:00:00-05:00  1.683250  1.687458  1.658001  1.674834   8389600   \n",
       "3 2002-02-19 00:00:00-05:00  1.666418  1.666418  1.578047  1.607504   7410400   \n",
       "4 2002-02-20 00:00:00-05:00  1.615920  1.662210  1.603296  1.662210   6892800   \n",
       "\n",
       "   Dividends  Stock Splits  \n",
       "0        0.0           0.0  \n",
       "1        0.0           0.0  \n",
       "2        0.0           0.0  \n",
       "3        0.0           0.0  \n",
       "4        0.0           0.0  "
      ]
     },
     "execution_count": 16,
     "metadata": {},
     "output_type": "execute_result"
    }
   ],
   "source": [
    "gme_data.reset_index(inplace=True)\n",
    "gme_data.head(5)"
   ]
  },
  {
   "cell_type": "markdown",
   "metadata": {},
   "source": [
    "## Question 4: Use Webscraping to Extract GME Revenue Data\n"
   ]
  },
  {
   "cell_type": "markdown",
   "metadata": {},
   "source": [
    "Use the `requests` library to download the webpage https://cf-courses-data.s3.us.cloud-object-storage.appdomain.cloud/IBMDeveloperSkillsNetwork-PY0220EN-SkillsNetwork/labs/project/stock.html. Save the text of the response as a variable named `html_data`.\n"
   ]
  },
  {
   "cell_type": "code",
   "execution_count": 17,
   "metadata": {},
   "outputs": [],
   "source": [
    "url2 = ' https://cf-courses-data.s3.us.cloud-object-storage.appdomain.cloud/IBMDeveloperSkillsNetwork-PY0220EN-SkillsNetwork/labs/project/stock.html'\n",
    "html_data2 = requests.get(url2).text"
   ]
  },
  {
   "cell_type": "markdown",
   "metadata": {},
   "source": [
    "Parse the html data using `beautiful_soup`.\n"
   ]
  },
  {
   "cell_type": "code",
   "execution_count": 18,
   "metadata": {},
   "outputs": [],
   "source": [
    "beautiful_soup2 = BeautifulSoup(html_data2,'html5lib')"
   ]
  },
  {
   "cell_type": "markdown",
   "metadata": {},
   "source": [
    "Using `BeautifulSoup` or the `read_html` function extract the table with `GameStop Revenue` and store it into a dataframe named `gme_revenue`. The dataframe should have columns `Date` and `Revenue`. Make sure the comma and dollar sign is removed from the `Revenue` column using a method similar to what you did in Question 2.\n"
   ]
  },
  {
   "cell_type": "markdown",
   "metadata": {},
   "source": [
    "<details><summary>Click here if you need help locating the table</summary>\n",
    "\n",
    "```\n",
    "    \n",
    "Below is the code to isolate the table, you will now need to loop through the rows and columns like in the previous lab\n",
    "    \n",
    "soup.find_all(\"tbody\")[1]\n",
    "    \n",
    "If you want to use the read_html function the table is located at index 1\n",
    "\n",
    "\n",
    "```\n",
    "\n",
    "</details>\n"
   ]
  },
  {
   "cell_type": "code",
   "execution_count": 19,
   "metadata": {},
   "outputs": [],
   "source": [
    "gme_revenue = pd.DataFrame(columns= ['Date','Revenue'])\n",
    "for row in beautiful_soup2.find(\"tbody\").find_all(\"tr\"):\n",
    "    col = row.find_all(\"td\")\n",
    "    date = col[0].text\n",
    "    revenue = col[1].text\n",
    "    s= pd.Series({'Date':date,'Revenue':revenue})\n",
    "    gme_revenue = pd.concat([gme_revenue,s.to_frame().T],ignore_index=True)\n",
    "\n",
    "\n",
    "gme_revenue[\"Revenue\"] = gme_revenue['Revenue'].str.replace(',|\\$',\"\",regex=True)\n",
    "\n",
    "gme_revenue.dropna(inplace=True)\n",
    "\n",
    "gme_revenue = gme_revenue[gme_revenue['Revenue'] != \"\"]\n"
   ]
  },
  {
   "cell_type": "markdown",
   "metadata": {},
   "source": [
    "Display the last five rows of the `gme_revenue` dataframe using the `tail` function. Take a screenshot of the results.\n"
   ]
  },
  {
   "cell_type": "code",
   "execution_count": 20,
   "metadata": {},
   "outputs": [
    {
     "data": {
      "text/html": [
       "<div>\n",
       "<style scoped>\n",
       "    .dataframe tbody tr th:only-of-type {\n",
       "        vertical-align: middle;\n",
       "    }\n",
       "\n",
       "    .dataframe tbody tr th {\n",
       "        vertical-align: top;\n",
       "    }\n",
       "\n",
       "    .dataframe thead th {\n",
       "        text-align: right;\n",
       "    }\n",
       "</style>\n",
       "<table border=\"1\" class=\"dataframe\">\n",
       "  <thead>\n",
       "    <tr style=\"text-align: right;\">\n",
       "      <th></th>\n",
       "      <th>Date</th>\n",
       "      <th>Revenue</th>\n",
       "    </tr>\n",
       "  </thead>\n",
       "  <tbody>\n",
       "    <tr>\n",
       "      <th>11</th>\n",
       "      <td>2009</td>\n",
       "      <td>8806</td>\n",
       "    </tr>\n",
       "    <tr>\n",
       "      <th>12</th>\n",
       "      <td>2008</td>\n",
       "      <td>7094</td>\n",
       "    </tr>\n",
       "    <tr>\n",
       "      <th>13</th>\n",
       "      <td>2007</td>\n",
       "      <td>5319</td>\n",
       "    </tr>\n",
       "    <tr>\n",
       "      <th>14</th>\n",
       "      <td>2006</td>\n",
       "      <td>3092</td>\n",
       "    </tr>\n",
       "    <tr>\n",
       "      <th>15</th>\n",
       "      <td>2005</td>\n",
       "      <td>1843</td>\n",
       "    </tr>\n",
       "  </tbody>\n",
       "</table>\n",
       "</div>"
      ],
      "text/plain": [
       "    Date Revenue\n",
       "11  2009    8806\n",
       "12  2008    7094\n",
       "13  2007    5319\n",
       "14  2006    3092\n",
       "15  2005    1843"
      ]
     },
     "execution_count": 20,
     "metadata": {},
     "output_type": "execute_result"
    }
   ],
   "source": [
    "gme_revenue.tail(5)"
   ]
  },
  {
   "cell_type": "markdown",
   "metadata": {},
   "source": [
    "## Question 5: Plot Tesla Stock Graph\n"
   ]
  },
  {
   "cell_type": "markdown",
   "metadata": {},
   "source": [
    "Use the `make_graph` function to graph the Tesla Stock Data, also provide a title for the graph. The structure to call the `make_graph` function is `make_graph(tesla_data, tesla_revenue, 'Tesla')`. Note the graph will only show data upto June 2021.\n"
   ]
  },
  {
   "cell_type": "code",
   "execution_count": 21,
   "metadata": {},
   "outputs": [
    {
     "data": {
      "image/svg+xml": [
       "<svg class=\"main-svg\" xmlns=\"http://www.w3.org/2000/svg\" xmlns:xlink=\"http://www.w3.org/1999/xlink\" width=\"700\" height=\"900\" style=\"\" viewBox=\"0 0 700 900\"><rect x=\"0\" y=\"0\" width=\"700\" height=\"900\" style=\"fill: rgb(255, 255, 255); fill-opacity: 1;\"/><defs id=\"defs-963242\"><g class=\"clips\"><clipPath id=\"clip963242xyplot\" class=\"plotclip\"><rect width=\"540\" height=\"251.99999999999997\"/></clipPath><clipPath id=\"clip963242x2y2plot\" class=\"plotclip\"><rect width=\"540\" height=\"251.99999999999997\"/></clipPath><clipPath class=\"axesclip\" id=\"clip963242x\"><rect x=\"80\" y=\"0\" width=\"540\" height=\"900\"/></clipPath><clipPath class=\"axesclip\" id=\"clip963242y\"><rect x=\"0\" y=\"100.00000000000009\" width=\"700\" height=\"251.99999999999997\"/></clipPath><clipPath class=\"axesclip\" id=\"clip963242xy\"><rect x=\"80\" y=\"100.00000000000009\" width=\"540\" height=\"251.99999999999997\"/></clipPath><clipPath class=\"axesclip\" id=\"clip963242y2\"><rect x=\"0\" y=\"568\" width=\"700\" height=\"251.99999999999997\"/></clipPath><clipPath class=\"axesclip\" id=\"clip963242xy2\"><rect x=\"80\" y=\"568\" width=\"540\" height=\"251.99999999999997\"/></clipPath><clipPath class=\"axesclip\" id=\"clip963242x2\"><rect x=\"80\" y=\"0\" width=\"540\" height=\"900\"/></clipPath><clipPath class=\"axesclip\" id=\"clip963242x2y\"><rect x=\"80\" y=\"100.00000000000009\" width=\"540\" height=\"251.99999999999997\"/></clipPath><clipPath class=\"axesclip\" id=\"clip963242x2y2\"><rect x=\"80\" y=\"568\" width=\"540\" height=\"251.99999999999997\"/></clipPath></g><g class=\"gradients\"/><g class=\"patterns\"/></defs><g class=\"bglayer\"><rect class=\"bg\" x=\"80\" y=\"100.00000000000009\" width=\"540\" height=\"251.99999999999997\" style=\"fill: rgb(229, 236, 246); fill-opacity: 1; stroke-width: 0;\"/><rect class=\"bg\" x=\"80\" y=\"568\" width=\"540\" height=\"251.99999999999997\" style=\"fill: rgb(229, 236, 246); fill-opacity: 1; stroke-width: 0;\"/></g><g class=\"layer-below\"><g class=\"imagelayer\"/><g class=\"shapelayer\"/></g><g class=\"cartesianlayer\"><g class=\"subplot xy\"><g class=\"layer-subplot\"><g class=\"shapelayer\"/><g class=\"imagelayer\"/></g><g class=\"minor-gridlayer\"><g class=\"x\"/><g class=\"y\"/></g><g class=\"gridlayer\"><g class=\"x\"><path class=\"xgrid crisp\" transform=\"translate(150.6,0)\" d=\"M0,100.00000000000009v251.99999999999997\" style=\"stroke: rgb(255, 255, 255); stroke-opacity: 1; stroke-width: 1px;\"/><path class=\"xgrid crisp\" transform=\"translate(230.29,0)\" d=\"M0,100.00000000000009v251.99999999999997\" style=\"stroke: rgb(255, 255, 255); stroke-opacity: 1; stroke-width: 1px;\"/><path class=\"xgrid crisp\" transform=\"translate(310.1,0)\" d=\"M0,100.00000000000009v251.99999999999997\" style=\"stroke: rgb(255, 255, 255); stroke-opacity: 1; stroke-width: 1px;\"/><path class=\"xgrid crisp\" transform=\"translate(389.79,0)\" d=\"M0,100.00000000000009v251.99999999999997\" style=\"stroke: rgb(255, 255, 255); stroke-opacity: 1; stroke-width: 1px;\"/><path class=\"xgrid crisp\" transform=\"translate(469.6,0)\" d=\"M0,100.00000000000009v251.99999999999997\" style=\"stroke: rgb(255, 255, 255); stroke-opacity: 1; stroke-width: 1px;\"/><path class=\"xgrid crisp\" transform=\"translate(549.29,0)\" d=\"M0,100.00000000000009v251.99999999999997\" style=\"stroke: rgb(255, 255, 255); stroke-opacity: 1; stroke-width: 1px;\"/></g><g class=\"y\"><path class=\"ygrid crisp\" transform=\"translate(0,301.55000000000007)\" d=\"M80,0h540\" style=\"stroke: rgb(255, 255, 255); stroke-opacity: 1; stroke-width: 1px;\"/><path class=\"ygrid crisp\" transform=\"translate(0,262.8900000000001)\" d=\"M80,0h540\" style=\"stroke: rgb(255, 255, 255); stroke-opacity: 1; stroke-width: 1px;\"/><path class=\"ygrid crisp\" transform=\"translate(0,224.23000000000008)\" d=\"M80,0h540\" style=\"stroke: rgb(255, 255, 255); stroke-opacity: 1; stroke-width: 1px;\"/><path class=\"ygrid crisp\" transform=\"translate(0,185.57000000000008)\" d=\"M80,0h540\" style=\"stroke: rgb(255, 255, 255); stroke-opacity: 1; stroke-width: 1px;\"/><path class=\"ygrid crisp\" transform=\"translate(0,146.9000000000001)\" d=\"M80,0h540\" style=\"stroke: rgb(255, 255, 255); stroke-opacity: 1; stroke-width: 1px;\"/><path class=\"ygrid crisp\" transform=\"translate(0,108.24000000000008)\" d=\"M80,0h540\" style=\"stroke: rgb(255, 255, 255); stroke-opacity: 1; stroke-width: 1px;\"/></g></g><g class=\"zerolinelayer\"><path class=\"yzl zl crisp\" transform=\"translate(0,340.2100000000001)\" d=\"M80,0h540\" style=\"stroke: rgb(255, 255, 255); stroke-opacity: 1; stroke-width: 2px;\"/></g><path class=\"xlines-below\"/><path class=\"ylines-below\"/><g class=\"overlines-below\"/><g class=\"xaxislayer-below\"/><g class=\"yaxislayer-below\"/><g class=\"overaxes-below\"/><g class=\"plot\" transform=\"translate(80,100.00000000000009)\" clip-path=\"url(#clip963242xyplot)\"><g class=\"scatterlayer mlayer\"><g class=\"trace scatter tracede368f\" style=\"stroke-miterlimit: 2; opacity: 1;\"><g class=\"fills\"/><g class=\"errorbars\"/><g class=\"lines\"><path class=\"js-line\" d=\"M90.14,238.98L92,239.15L92.32,239.09L94.94,239.31L95.05,239.27L111.54,238.82L111.65,238.82L114.48,239.03L114.59,238.95L117,238.98L117.1,238.96L130.97,238.73L131.3,238.75L148.22,238.7L148.33,238.74L153.57,238.72L153.68,238.69L156.19,238.47L156.52,238.48L171.47,238.45L171.8,238.36L173,238.69L173.33,238.8L175.73,238.71L175.84,238.67L183.7,238.72L184.03,238.59L201.6,237.98L201.71,237.86L204.22,236.64L204.33,236.26L205.42,235.58L205.53,235.7L206.3,234.53L206.63,235.17L206.95,235.44L208.15,235.04L208.48,234.95L211.54,233.65L211.65,234.59L212.41,233.89L212.52,233.94L212.63,233.82L213.83,232.76L213.94,232.89L214.05,233.29L214.16,232.3L214.6,232.62L214.7,232.72L214.92,233.01L215.36,232.74L215.47,232.5L216.56,231.5L217,231.51L218.74,231.04L218.85,230.76L219.62,230.37L219.94,230.25L220.93,231.51L221.04,231.3L221.15,231L222.24,231.32L222.35,231.37L222.56,231.29L223.22,232.01L223.33,231.97L223.87,231.1L223.98,232.42L224.86,233.12L224.97,233.23L226.06,233.99L226.17,234L226.93,232.76L227.15,232.97L227.26,233.13L228.79,232.83L229.12,232.81L229.44,232.2L229.88,232.36L229.99,232.46L231.41,233.03L231.52,231.9L232.5,230.86L232.61,231.21L232.94,231.47L233.26,230.79L233.81,231L233.92,231.22L235.34,229.71L235.45,230.23L236.21,227.17L236.43,227.59L236.76,227.3L237.08,227.18L237.19,227.52L237.52,227.9L237.74,227.77L237.96,228.31L238.29,228.15L238.39,227.84L239.81,229.47L239.92,229.03L240.03,228.34L240.58,229.52L240.69,229.11L241.45,230.22L241.67,230L242.11,229.68L242.22,228.94L242.54,229.91L242.87,229.98L243.64,229.05L243.74,229.53L243.85,229.83L243.96,231.01L244.62,230.39L244.73,230.49L246.26,229.38L246.36,229.5L246.69,229.66L247.89,229.57L248.22,228.64L248.98,227.99L249.09,228.23L249.2,228L249.86,227.86L249.97,228.39L250.08,228.4L251.6,229.11L251.71,228.87L252.04,228.85L253.68,227.92L253.79,227.38L254.77,226.71L255.1,226.81L255.43,227.1L255.86,226.68L255.97,226.72L257.83,225.82L258.15,227.13L258.48,226.61L258.59,226.85L258.92,227.33L259.79,227.7L259.9,227.83L260.45,226.78L260.77,226.97L260.88,228L261.54,228.55L261.65,228.49L261.98,228.33L262.41,228.09L262.74,228.79L263.5,227.71L263.61,227.9L263.72,228.31L263.83,227.78L264.27,227.74L264.38,227.27L265.36,227.39L265.47,227.7L266.23,227.61L266.56,228.27L268.09,229.7L268.2,230.02L269.29,228.47L269.62,228.58L271.15,229.79L271.26,229.69L272.02,230.32L272.13,230.08L273,229.64L273.11,229.72L274.31,229.06L274.42,229.24L275.19,229.67L275.29,229.3L275.4,229.02L275.84,229.69L275.95,229.71L276.71,229.78L276.82,229.87L277.7,230.49L278.02,230.13L278.9,229.82L279.01,230.2L279.77,230.54L279.88,230.37L280.32,229.74L281.41,229.56L281.52,229.55L281.95,229.42L282.06,228.9L282.72,228.33L282.83,228.23L283.05,228.56L283.59,228.34L283.7,228.01L286.65,227.38L286.76,227.54L287.3,227.02L287.63,227.29L287.96,227.31L289.05,226.36L289.16,226.45L289.49,226.71L290.25,225.8L290.36,226.41L290.47,227.07L291.78,225.66L291.89,226.46L292.22,226.53L292.54,227.17L293.42,226.49L293.53,226.29L294.18,227.98L294.4,227.71L294.51,227.68L294.95,226.77L295.16,227.73L295.27,228.32L295.6,228.93L295.82,228.62L295.93,227.69L296.47,227.91L296.58,227.45L296.69,227.56L296.8,227.74L298.99,226.65L299.09,226.97L301.17,229.03L301.28,228.81L301.39,228.51L301.71,228.46L301.82,229.23L302.59,229.37L302.7,229.24L302.81,229.31L303.35,229.47L303.46,228.27L304.01,228.6L304.12,229.05L304.44,229.53L305.21,228.87L305.54,228.99L306.41,227.99L306.52,228.26L306.63,228.22L307.83,228.95L307.94,228.82L308.05,228.13L309.36,228.41L309.47,227.99L309.68,227.84L310.12,228.7L311.98,229.91L312.09,229.77L313.5,231.18L313.61,231.83L314.16,232.81L314.38,232.43L314.82,232.22L315.8,230.55L315.91,230.4L316.67,229.85L317,229.63L317.33,229.64L317.44,229.52L317.76,229.12L318.53,227.93L318.85,228.47L319.29,228.34L319.51,228.52L319.73,227.97L320.06,227.48L320.27,226.53L320.82,227.33L320.93,227.44L321.58,227.13L321.69,227.46L321.8,227.33L322.57,227.25L322.68,227.45L322.78,227.8L323.22,228.24L323.33,228.74L324.2,229.53L324.31,229.51L324.97,229.12L325.08,228.86L325.84,228.72L326.28,228.71L326.93,228.84L327.04,228.24L327.15,228.07L327.37,228.94L327.7,228.98L328.46,228.89L328.57,228.89L328.9,230.26L329.33,229.81L329.44,229.38L330.97,228.74L331.08,228.79L333.16,228.5L333.27,228.58L333.92,228.41L334.03,228.58L334.14,228.62L336.1,229.12L336.21,229.32L337.3,230.19L337.63,229.99L337.85,230.09L338.07,229.63L338.4,229.58L339.6,229.7L339.92,229.2L341.45,230.22L341.56,229.95L342.44,229.79L342.54,229.7L343.31,230.55L343.42,230.39L343.75,230.25L345.27,230.7L345.38,230.36L346.04,230.1L346.26,230.45L346.37,230.84L354.12,226.34L354.44,225.75L355.43,226.12L355.54,227.02L356.41,227.25L356.74,227.26L357.5,227.52L357.61,226.91L358.37,227.29L358.59,227.08L358.7,226.65L360.56,224.11L360.67,224.3L360.78,224.91L361.54,224.47L361.65,224.62L362.85,223.57L362.96,223.78L363.07,224.18L363.18,224.98L363.72,223.65L363.83,223.45L365.25,224.55L365.36,224.22L365.47,223.88L366.13,222.64L366.34,222.7L366.67,222.31L367.65,220.59L367.76,220.87L367.87,221.07L368.53,220.49L368.64,220.45L369.73,222.04L369.95,223.35L370.06,224.29L370.6,223.35L370.71,223.23L371.26,223.74L371.48,223.45L371.58,223.21L372.24,222.49L372.46,222.94L372.79,223.54L372.89,223.74L373,223.41L373.11,222.32L373.66,221.39L373.99,221.77L374.31,221.46L374.75,222.3L375.08,222.8L376.17,221.87L376.28,221.89L377.04,222.51L377.37,221.47L378.13,220.37L378.35,220.94L378.46,221.32L379.23,222.71L379.34,222.63L379.66,222.61L380.54,221.88L380.65,221.94L380.75,221.88L382.06,222.82L382.17,223.42L382.94,223.66L383.05,224.79L383.59,224.44L383.81,224.6L383.92,224.6L384.68,223.97L385.01,224.3L385.78,223.88L385.89,223.84L386.65,224.56L386.76,224.07L387.31,223.26L387.41,222.63L389.27,224.16L389.71,223.69L389.93,224L390.03,223.89L390.36,222.87L390.8,222.88L391.24,222.68L392,222.03L392.11,222.38L392.22,222.81L392.65,222.2L392.76,222.39L392.87,221.95L393.86,224.21L394.29,223.53L394.4,223.6L395.38,222.07L395.71,221.79L396.8,223.25L396.91,223.35L397.24,222.4L397.57,223.43L397.68,223.65L398.88,225.82L398.99,226.93L399.53,227.2L399.86,224.45L399.97,224.79L400.3,225.28L400.41,224.51L401.06,225.2L401.17,225.38L401.39,224.75L401.82,225.61L401.93,225.6L402.04,225.75L402.26,225.05L402.59,225.06L402.92,225.55L403.57,224.4L403.68,224.49L404.99,226.04L405.21,225.89L405.32,225.84L406.41,224.92L406.52,225.21L406.63,223.74L406.74,223.92L406.85,223.84L407.17,223.09L407.94,221.1L408.16,221.54L408.27,222.3L408.7,223.05L408.92,222.46L409.03,222.18L409.9,224.29L410.23,223.8L410.34,223.59L411,224.23L411.1,223.58L411.21,223.52L412.52,225.26L412.63,224.85L412.74,224.71L413.4,220.65L413.51,221.12L413.62,222.05L414.05,221.84L414.16,222.29L414.27,222.76L414.38,222.92L414.49,224.47L415.58,223.76L415.69,224.14L416.78,226.64L417.11,225.5L417.22,225.81L417.55,225L417.87,225.02L417.98,225.52L418.09,224.8L418.31,224.8L418.64,224.77L418.86,224.26L418.96,224.36L419.07,226.57L419.4,224.2L419.73,225.69L419.84,226.71L420.49,227.21L420.6,226.87L420.93,226.83L421.8,225.05L421.91,225.34L422.9,222.36L423.22,222.62L423.66,222.15L423.99,223.14L424.75,221.99L424.86,222.3L424.97,222.78L425.19,223.42L425.52,222.38L425.62,222.49L425.73,222.28L425.84,222.63L426.28,221.73L426.39,221.67L427.37,220.79L427.48,221.36L427.81,222.25L428.57,224.99L428.79,223.4L429.01,223L429.66,224.73L429.77,223.84L431.08,222.38L431.19,222.31L431.85,225.39L431.96,225.19L432.07,224.9L432.72,224.39L432.83,224.12L433.48,224.36L433.59,224.45L434.36,224.34L434.79,224.46L435.56,224.86L435.67,223.99L435.78,223.72L435.89,225.02L436.21,225.5L436.54,225.96L436.65,225.57L436.98,225.22L437.85,226.43L437.96,226.11L438.07,226.09L438.51,226.79L438.73,226.05L438.83,225.85L439.49,225.17L439.6,226.41L440.25,225.98L440.36,226.38L440.47,226.41L441.78,226.88L441.89,227.45L442.55,228.15L442.66,227.63L442.76,227.07L443.42,227.74L443.53,227.87L445.71,230.51L445.82,230.67L446.15,230.99L446.26,230.23L446.37,230.08L447.02,229.02L447.35,229.14L447.68,228.61L450.41,227.58L450.73,227.15L451.72,226.56L451.83,228.42L452.48,227.76L452.7,228.13L453.03,228.44L453.9,228.1L454.01,228.89L454.55,228.52L454.77,228.83L454.88,228.76L454.99,229.32L455.65,228.79L455.76,228.58L456.85,228.27L456.96,228.07L457.72,227.6L457.83,227.66L458.38,227.78L458.49,228.71L459.25,227.6L459.36,227.68L459.47,228.2L461.65,227.09L461.76,224.77L462.2,223.32L462.52,223.98L462.63,224.06L463.4,222.84L463.73,222.43L464.6,221.68L464.71,222.06L464.82,221.92L464.93,223.05L466.24,223.05L466.35,223.18L468.75,218.03L469.07,218.84L469.95,216.03L470.06,214.84L470.28,215.57L470.6,213.16L471.04,213.9L471.69,210.72L471.8,211.1L472.13,211.45L472.24,210.99L472.35,210.26L473,194.49L473.33,201.65L473.66,200.46L473.77,200.3L473.88,200.66L473.99,198.77L474.1,198.97L474.53,195.96L474.64,192.92L475.19,197.23L475.3,198.98L475.63,205.78L475.95,201.88L476.17,201.58L476.28,202.86L477.7,221.59L477.92,218.18L478.25,217.83L478.46,212.42L479.12,213.2L479.23,215.39L479.34,216.79L479.77,213.6L479.88,212.1L480.1,210.68L480.54,206.66L480.97,201.35L481.3,201.74L481.41,204.81L482.28,198.95L482.39,199.91L482.5,204.06L483.27,197.97L483.7,198.49L483.81,199.44L484.69,197.55L484.8,198.1L485.23,198L485.45,198.68L485.56,197.17L485.89,193.92L486.21,195.66L486.32,194.56L486.65,191.25L486.76,191.72L486.87,187.37L487.09,192L487.63,189.09L487.74,188.46L488.18,188.96L488.29,188.57L488.4,190.68L488.62,190.74L489.27,177.91L489.71,169.51L489.93,169.8L490.04,168.34L490.14,160.59L490.47,163.04L490.91,162.85L491.24,155.52L491.67,167.17L492.11,164.1L492.22,162.94L492.44,166.46L492.77,163.66L493.09,163.43L493.2,165.33L493.64,169.37L493.75,160.07L495.82,111.77L495.93,117.77L496.7,155.1L497.02,144.15L497.35,132.06L497.46,124.29L498.11,124.39L498.22,130.87L498.33,142.18L498.88,131.65L498.99,132.2L499.21,124.7L499.32,133.23L499.64,130.5L499.75,133.51L500.63,121.32L500.73,124.52L500.84,126.89L501.94,131.89L502.04,130.75L502.37,140.2L502.7,136.98L502.81,130.96L503.03,127.3L503.9,134.92L504.23,135.03L505.43,89.24L505.76,93.92L506.63,72.71L506.85,78.59L506.96,82.99L507.72,61.08L508.05,72.71L508.16,75.17L508.38,69.64L508.81,69.15L508.92,68.56L509.03,61.14L509.91,29.88L510.01,13.39L510.34,31.13L510.78,27.27L511.22,22.53L511.98,12.6L512.09,17.48L512.2,24.88L512.31,35.68L512.74,15.25L512.85,19.92L512.96,21.13L513.4,17.67L513.51,21.27L514.27,34.99L514.38,34.49L514.49,37.27L514.6,38.84L514.93,56.05L515.15,48.96L515.36,66.11L515.69,55.04L516.46,95.1L516.56,66.6L516.67,68.02L517.22,57.74L517.44,59.32L517.55,71.86L517.98,67.52L518.09,69.54L518.2,77.76L518.31,75.16L518.42,80.74L518.75,82.66L519.62,61.95L519.73,67.27L519.84,63.97L519.95,65.71L520.28,59.28L520.39,43.73L521.04,56.02L521.15,54.9L521.26,48.42L522.13,65.72L522.24,57.36L524.32,94.98L524.42,88.97L524.53,90.49L524.86,83.91L524.97,84.36L525.08,80.64L525.19,77.61L525.73,79.41L525.84,84.25L525.95,92.57L526.39,84.24L526.61,85.88L526.72,82.96L527.15,81.01\" style=\"vector-effect: none; fill: none; stroke: rgb(99, 110, 250); stroke-opacity: 1; stroke-width: 2px; opacity: 1;\"/></g><g class=\"points\"/><g class=\"text\"/></g></g></g><g class=\"overplot\"/><path class=\"xlines-above crisp\" d=\"M0,0\" style=\"fill: none;\"/><path class=\"ylines-above crisp\" d=\"M0,0\" style=\"fill: none;\"/><g class=\"overlines-above\"/><g class=\"xaxislayer-above\"/><g class=\"yaxislayer-above\"><g class=\"ytick\"><text text-anchor=\"end\" x=\"79\" y=\"4.199999999999999\" transform=\"translate(0,340.2100000000001)\" style=\"font-family: 'Open Sans', verdana, arial, sans-serif; font-size: 12px; fill: rgb(42, 63, 95); fill-opacity: 1; white-space: pre; opacity: 1;\">0</text></g><g class=\"ytick\"><text text-anchor=\"end\" x=\"79\" y=\"4.199999999999999\" style=\"font-family: 'Open Sans', verdana, arial, sans-serif; font-size: 12px; fill: rgb(42, 63, 95); fill-opacity: 1; white-space: pre; opacity: 1;\" transform=\"translate(0,301.55000000000007)\">50</text></g><g class=\"ytick\"><text text-anchor=\"end\" x=\"79\" y=\"4.199999999999999\" style=\"font-family: 'Open Sans', verdana, arial, sans-serif; font-size: 12px; fill: rgb(42, 63, 95); fill-opacity: 1; white-space: pre; opacity: 1;\" transform=\"translate(0,262.8900000000001)\">100</text></g><g class=\"ytick\"><text text-anchor=\"end\" x=\"79\" y=\"4.199999999999999\" style=\"font-family: 'Open Sans', verdana, arial, sans-serif; font-size: 12px; fill: rgb(42, 63, 95); fill-opacity: 1; white-space: pre; opacity: 1;\" transform=\"translate(0,224.23000000000008)\">150</text></g><g class=\"ytick\"><text text-anchor=\"end\" x=\"79\" y=\"4.199999999999999\" style=\"font-family: 'Open Sans', verdana, arial, sans-serif; font-size: 12px; fill: rgb(42, 63, 95); fill-opacity: 1; white-space: pre; opacity: 1;\" transform=\"translate(0,185.57000000000008)\">200</text></g><g class=\"ytick\"><text text-anchor=\"end\" x=\"79\" y=\"4.199999999999999\" style=\"font-family: 'Open Sans', verdana, arial, sans-serif; font-size: 12px; fill: rgb(42, 63, 95); fill-opacity: 1; white-space: pre; opacity: 1;\" transform=\"translate(0,146.9000000000001)\">250</text></g><g class=\"ytick\"><text text-anchor=\"end\" x=\"79\" y=\"4.199999999999999\" style=\"font-family: 'Open Sans', verdana, arial, sans-serif; font-size: 12px; fill: rgb(42, 63, 95); fill-opacity: 1; white-space: pre; opacity: 1;\" transform=\"translate(0,108.24000000000008)\">300</text></g></g><g class=\"overaxes-above\"/></g><g class=\"subplot x2y2\"><g class=\"layer-subplot\"><g class=\"shapelayer\"/><g class=\"imagelayer\"/></g><g class=\"minor-gridlayer\"><g class=\"x2\"/><g class=\"y2\"/></g><g class=\"gridlayer\"><g class=\"x2\"><path class=\"x2grid crisp\" transform=\"translate(150.6,0)\" d=\"M0,568v251.99999999999997\" style=\"stroke: rgb(255, 255, 255); stroke-opacity: 1; stroke-width: 1px;\"/><path class=\"x2grid crisp\" transform=\"translate(230.29,0)\" d=\"M0,568v251.99999999999997\" style=\"stroke: rgb(255, 255, 255); stroke-opacity: 1; stroke-width: 1px;\"/><path class=\"x2grid crisp\" transform=\"translate(310.1,0)\" d=\"M0,568v251.99999999999997\" style=\"stroke: rgb(255, 255, 255); stroke-opacity: 1; stroke-width: 1px;\"/><path class=\"x2grid crisp\" transform=\"translate(389.79,0)\" d=\"M0,568v251.99999999999997\" style=\"stroke: rgb(255, 255, 255); stroke-opacity: 1; stroke-width: 1px;\"/><path class=\"x2grid crisp\" transform=\"translate(469.6,0)\" d=\"M0,568v251.99999999999997\" style=\"stroke: rgb(255, 255, 255); stroke-opacity: 1; stroke-width: 1px;\"/><path class=\"x2grid crisp\" transform=\"translate(549.29,0)\" d=\"M0,568v251.99999999999997\" style=\"stroke: rgb(255, 255, 255); stroke-opacity: 1; stroke-width: 1px;\"/></g><g class=\"y2\"><path class=\"y2grid crisp\" transform=\"translate(0,763.28)\" d=\"M80,0h540\" style=\"stroke: rgb(255, 255, 255); stroke-opacity: 1; stroke-width: 1px;\"/><path class=\"y2grid crisp\" transform=\"translate(0,722.45)\" d=\"M80,0h540\" style=\"stroke: rgb(255, 255, 255); stroke-opacity: 1; stroke-width: 1px;\"/><path class=\"y2grid crisp\" transform=\"translate(0,681.62)\" d=\"M80,0h540\" style=\"stroke: rgb(255, 255, 255); stroke-opacity: 1; stroke-width: 1px;\"/><path class=\"y2grid crisp\" transform=\"translate(0,640.79)\" d=\"M80,0h540\" style=\"stroke: rgb(255, 255, 255); stroke-opacity: 1; stroke-width: 1px;\"/><path class=\"y2grid crisp\" transform=\"translate(0,599.96)\" d=\"M80,0h540\" style=\"stroke: rgb(255, 255, 255); stroke-opacity: 1; stroke-width: 1px;\"/></g></g><g class=\"zerolinelayer\"><path class=\"y2zl zl crisp\" transform=\"translate(0,804.11)\" d=\"M80,0h540\" style=\"stroke: rgb(255, 255, 255); stroke-opacity: 1; stroke-width: 2px;\"/></g><path class=\"xlines-below\"/><path class=\"ylines-below\"/><g class=\"overlines-below\"/><g class=\"xaxislayer-below\"/><g class=\"yaxislayer-below\"/><g class=\"overaxes-below\"/><g class=\"plot\" transform=\"translate(80,568)\" clip-path=\"url(#clip963242x2y2plot)\"><g class=\"scatterlayer mlayer\"><g class=\"trace scatter traced6640a\" style=\"stroke-miterlimit: 2; opacity: 1;\"><g class=\"fills\"/><g class=\"errorbars\"/><g class=\"lines\"><path class=\"js-line\" d=\"M509.25,16.35L469.29,107.35L429.45,135.76L389.6,148.48L349.75,188.1L309.79,207.53L269.95,219.59L230.1,223.05L190.25,227.89L150.29,234.42L110.45,235.27L30.75,235.65\" style=\"vector-effect: none; fill: none; stroke: rgb(239, 85, 59); stroke-opacity: 1; stroke-width: 2px; opacity: 1;\"/></g><g class=\"points\"><path class=\"point\" transform=\"translate(509.25,16.35)\" d=\"M3,0A3,3 0 1,1 0,-3A3,3 0 0,1 3,0Z\" style=\"opacity: 1; stroke-width: 0px; fill: rgb(239, 85, 59); fill-opacity: 1;\"/><path class=\"point\" transform=\"translate(469.29,107.35)\" d=\"M3,0A3,3 0 1,1 0,-3A3,3 0 0,1 3,0Z\" style=\"opacity: 1; stroke-width: 0px; fill: rgb(239, 85, 59); fill-opacity: 1;\"/><path class=\"point\" transform=\"translate(429.45,135.76)\" d=\"M3,0A3,3 0 1,1 0,-3A3,3 0 0,1 3,0Z\" style=\"opacity: 1; stroke-width: 0px; fill: rgb(239, 85, 59); fill-opacity: 1;\"/><path class=\"point\" transform=\"translate(389.6,148.48)\" d=\"M3,0A3,3 0 1,1 0,-3A3,3 0 0,1 3,0Z\" style=\"opacity: 1; stroke-width: 0px; fill: rgb(239, 85, 59); fill-opacity: 1;\"/><path class=\"point\" transform=\"translate(349.75,188.1)\" d=\"M3,0A3,3 0 1,1 0,-3A3,3 0 0,1 3,0Z\" style=\"opacity: 1; stroke-width: 0px; fill: rgb(239, 85, 59); fill-opacity: 1;\"/><path class=\"point\" transform=\"translate(309.79,207.53)\" d=\"M3,0A3,3 0 1,1 0,-3A3,3 0 0,1 3,0Z\" style=\"opacity: 1; stroke-width: 0px; fill: rgb(239, 85, 59); fill-opacity: 1;\"/><path class=\"point\" transform=\"translate(269.95,219.59)\" d=\"M3,0A3,3 0 1,1 0,-3A3,3 0 0,1 3,0Z\" style=\"opacity: 1; stroke-width: 0px; fill: rgb(239, 85, 59); fill-opacity: 1;\"/><path class=\"point\" transform=\"translate(230.1,223.05)\" d=\"M3,0A3,3 0 1,1 0,-3A3,3 0 0,1 3,0Z\" style=\"opacity: 1; stroke-width: 0px; fill: rgb(239, 85, 59); fill-opacity: 1;\"/><path class=\"point\" transform=\"translate(190.25,227.89)\" d=\"M3,0A3,3 0 1,1 0,-3A3,3 0 0,1 3,0Z\" style=\"opacity: 1; stroke-width: 0px; fill: rgb(239, 85, 59); fill-opacity: 1;\"/><path class=\"point\" transform=\"translate(150.29,234.42)\" d=\"M3,0A3,3 0 1,1 0,-3A3,3 0 0,1 3,0Z\" style=\"opacity: 1; stroke-width: 0px; fill: rgb(239, 85, 59); fill-opacity: 1;\"/><path class=\"point\" transform=\"translate(110.45,235.27)\" d=\"M3,0A3,3 0 1,1 0,-3A3,3 0 0,1 3,0Z\" style=\"opacity: 1; stroke-width: 0px; fill: rgb(239, 85, 59); fill-opacity: 1;\"/><path class=\"point\" transform=\"translate(70.6,235.63)\" d=\"M3,0A3,3 0 1,1 0,-3A3,3 0 0,1 3,0Z\" style=\"opacity: 1; stroke-width: 0px; fill: rgb(239, 85, 59); fill-opacity: 1;\"/><path class=\"point\" transform=\"translate(30.75,235.65)\" d=\"M3,0A3,3 0 1,1 0,-3A3,3 0 0,1 3,0Z\" style=\"opacity: 1; stroke-width: 0px; fill: rgb(239, 85, 59); fill-opacity: 1;\"/></g><g class=\"text\"/></g></g></g><g class=\"overplot\"/><path class=\"xlines-above crisp\" d=\"M0,0\" style=\"fill: none;\"/><path class=\"ylines-above crisp\" d=\"M0,0\" style=\"fill: none;\"/><g class=\"overlines-above\"/><g class=\"xaxislayer-above\"><g class=\"x2tick\"><text text-anchor=\"middle\" x=\"0\" y=\"833\" transform=\"translate(150.6,0)\" style=\"font-family: 'Open Sans', verdana, arial, sans-serif; font-size: 12px; fill: rgb(42, 63, 95); fill-opacity: 1; white-space: pre; opacity: 1;\">2010</text></g><g class=\"x2tick\"><text text-anchor=\"middle\" x=\"0\" y=\"833\" style=\"font-family: 'Open Sans', verdana, arial, sans-serif; font-size: 12px; fill: rgb(42, 63, 95); fill-opacity: 1; white-space: pre; opacity: 1;\" transform=\"translate(230.29,0)\">2012</text></g><g class=\"x2tick\"><text text-anchor=\"middle\" x=\"0\" y=\"833\" style=\"font-family: 'Open Sans', verdana, arial, sans-serif; font-size: 12px; fill: rgb(42, 63, 95); fill-opacity: 1; white-space: pre; opacity: 1;\" transform=\"translate(310.1,0)\">2014</text></g><g class=\"x2tick\"><text text-anchor=\"middle\" x=\"0\" y=\"833\" style=\"font-family: 'Open Sans', verdana, arial, sans-serif; font-size: 12px; fill: rgb(42, 63, 95); fill-opacity: 1; white-space: pre; opacity: 1;\" transform=\"translate(389.79,0)\">2016</text></g><g class=\"x2tick\"><text text-anchor=\"middle\" x=\"0\" y=\"833\" style=\"font-family: 'Open Sans', verdana, arial, sans-serif; font-size: 12px; fill: rgb(42, 63, 95); fill-opacity: 1; white-space: pre; opacity: 1;\" transform=\"translate(469.6,0)\">2018</text></g><g class=\"x2tick\"><text text-anchor=\"middle\" x=\"0\" y=\"833\" style=\"font-family: 'Open Sans', verdana, arial, sans-serif; font-size: 12px; fill: rgb(42, 63, 95); fill-opacity: 1; white-space: pre; opacity: 1;\" transform=\"translate(549.29,0)\">2020</text></g></g><g class=\"yaxislayer-above\"><g class=\"y2tick\"><text text-anchor=\"end\" x=\"79\" y=\"4.199999999999999\" transform=\"translate(0,804.11)\" style=\"font-family: 'Open Sans', verdana, arial, sans-serif; font-size: 12px; fill: rgb(42, 63, 95); fill-opacity: 1; white-space: pre; opacity: 1;\">0</text></g><g class=\"y2tick\"><text text-anchor=\"end\" x=\"79\" y=\"4.199999999999999\" style=\"font-family: 'Open Sans', verdana, arial, sans-serif; font-size: 12px; fill: rgb(42, 63, 95); fill-opacity: 1; white-space: pre; opacity: 1;\" transform=\"translate(0,763.28)\">10k</text></g><g class=\"y2tick\"><text text-anchor=\"end\" x=\"79\" y=\"4.199999999999999\" style=\"font-family: 'Open Sans', verdana, arial, sans-serif; font-size: 12px; fill: rgb(42, 63, 95); fill-opacity: 1; white-space: pre; opacity: 1;\" transform=\"translate(0,722.45)\">20k</text></g><g class=\"y2tick\"><text text-anchor=\"end\" x=\"79\" y=\"4.199999999999999\" style=\"font-family: 'Open Sans', verdana, arial, sans-serif; font-size: 12px; fill: rgb(42, 63, 95); fill-opacity: 1; white-space: pre; opacity: 1;\" transform=\"translate(0,681.62)\">30k</text></g><g class=\"y2tick\"><text text-anchor=\"end\" x=\"79\" y=\"4.199999999999999\" style=\"font-family: 'Open Sans', verdana, arial, sans-serif; font-size: 12px; fill: rgb(42, 63, 95); fill-opacity: 1; white-space: pre; opacity: 1;\" transform=\"translate(0,640.79)\">40k</text></g><g class=\"y2tick\"><text text-anchor=\"end\" x=\"79\" y=\"4.199999999999999\" style=\"font-family: 'Open Sans', verdana, arial, sans-serif; font-size: 12px; fill: rgb(42, 63, 95); fill-opacity: 1; white-space: pre; opacity: 1;\" transform=\"translate(0,599.96)\">50k</text></g></g><g class=\"overaxes-above\"/></g></g><g class=\"polarlayer\"/><g class=\"smithlayer\"/><g class=\"ternarylayer\"/><g class=\"geolayer\"/><g class=\"funnelarealayer\"/><g class=\"pielayer\"/><g class=\"iciclelayer\"/><g class=\"treemaplayer\"/><g class=\"sunburstlayer\"/><g class=\"glimages\"/><defs id=\"topdefs-963242\"><g class=\"clips\"/><clipPath id=\"rangesliderx-963242\"><rect x=\"0\" y=\"0\" width=\"540\" height=\"108\"/></clipPath></defs><g class=\"layer-above\"><g class=\"imagelayer\"/><g class=\"shapelayer\"/></g><g class=\"infolayer\"><g class=\"g-gtitle\"><text class=\"gtitle\" x=\"35\" y=\"50\" text-anchor=\"start\" dy=\"0em\" style=\"font-family: 'Open Sans', verdana, arial, sans-serif; font-size: 17px; fill: rgb(42, 63, 95); opacity: 1; font-weight: normal; white-space: pre;\">Tesla</text></g><g class=\"g-x2title\"><text class=\"x2title\" x=\"350\" y=\"860.3\" text-anchor=\"middle\" style=\"font-family: 'Open Sans', verdana, arial, sans-serif; font-size: 14px; fill: rgb(42, 63, 95); opacity: 1; font-weight: normal; white-space: pre;\">Date</text></g><g class=\"g-ytitle\"><text class=\"ytitle\" transform=\"rotate(-90,31.809375000000003,226.00000000000006)\" x=\"31.809375000000003\" y=\"226.00000000000006\" text-anchor=\"middle\" style=\"font-family: 'Open Sans', verdana, arial, sans-serif; font-size: 14px; fill: rgb(42, 63, 95); opacity: 1; font-weight: normal; white-space: pre;\">Price ($US)</text></g><g class=\"g-y2title\"><text class=\"y2title\" transform=\"rotate(-90,32.340625,694)\" x=\"32.340625\" y=\"694\" text-anchor=\"middle\" style=\"font-family: 'Open Sans', verdana, arial, sans-serif; font-size: 14px; fill: rgb(42, 63, 95); opacity: 1; font-weight: normal; white-space: pre;\">Revenue ($US Millions)</text></g><g class=\"annotation\" data-index=\"0\" style=\"opacity: 1;\"><g class=\"annotation-text-g\" transform=\"rotate(0,350,88.50000000000009)\"><g class=\"cursor-pointer\" transform=\"translate(263,77)\"><rect class=\"bg\" x=\"0.5\" y=\"0.5\" width=\"174\" height=\"22\" style=\"stroke-width: 1px; stroke: rgb(0, 0, 0); stroke-opacity: 0; fill: rgb(0, 0, 0); fill-opacity: 0;\"/><text class=\"annotation-text\" text-anchor=\"middle\" x=\"87.671875\" y=\"18\" style=\"font-family: 'Open Sans', verdana, arial, sans-serif; font-size: 16px; fill: rgb(42, 63, 95); fill-opacity: 1; white-space: pre;\">Historical Share Price</text></g></g></g><g class=\"annotation\" data-index=\"1\" style=\"opacity: 1;\"><g class=\"annotation-text-g\" transform=\"rotate(0,350,556.5)\"><g class=\"cursor-pointer\" transform=\"translate(274,545)\"><rect class=\"bg\" x=\"0.5\" y=\"0.5\" width=\"152\" height=\"22\" style=\"stroke-width: 1px; stroke: rgb(0, 0, 0); stroke-opacity: 0; fill: rgb(0, 0, 0); fill-opacity: 0;\"/><text class=\"annotation-text\" text-anchor=\"middle\" x=\"76.4375\" y=\"18\" style=\"font-family: 'Open Sans', verdana, arial, sans-serif; font-size: 16px; fill: rgb(42, 63, 95); fill-opacity: 1; white-space: pre;\">Historical Revenue</text></g></g></g><g class=\"rangeslider-container\" pointer-events=\"all\" transform=\"translate(80,367)\"><rect class=\"rangeslider-bg\" x=\"0\" y=\"0\" shape-rendering=\"crispEdges\" width=\"540\" height=\"108\" transform=\"\" stroke-width=\"0\" style=\"stroke: rgb(68, 68, 68); stroke-opacity: 1; fill: rgb(229, 236, 246); fill-opacity: 1;\"/><g class=\"rangeslider-rangeplot xy\" clip-path=\"url(#rangesliderx-963242)\"><g class=\"layer-subplot\"><g class=\"shapelayer\"/><g class=\"imagelayer\"/></g><g class=\"minor-gridlayer\"><g class=\"x\"/><g class=\"y\"/></g><g class=\"gridlayer\"><g class=\"x\"/><g class=\"y\"/></g><g class=\"zerolinelayer\"/><path class=\"xlines-below\"/><path class=\"ylines-below\"/><g class=\"overlines-below\"/><g class=\"xaxislayer-below\"/><g class=\"yaxislayer-below\"/><g class=\"overaxes-below\"/><g class=\"plot\"><g class=\"scatterlayer mlayer rangeplot\"><g class=\"trace scatter tracede368f\" style=\"stroke-miterlimit: 2; opacity: 1;\"><g class=\"fills\"/><g class=\"errorbars\"/><g class=\"lines\"><path class=\"js-line\" d=\"M90.14,102.42L94.62,102.52L94.72,102.53L99.96,102.5L100.07,102.48L105.75,102.26L106.08,102.21L109.46,102.28L109.9,102.38L113.83,102.42L113.94,102.42L128.24,102.32L128.35,102.32L132.39,102.32L132.5,102.3L143.74,102.31L143.85,102.23L154.99,102.25L155.1,102.22L160.66,102.19L161.1,102.22L204.11,101.72L204.22,101.42L205.1,100.93L205.42,100.96L207.28,100.8L207.39,100.69L209.68,100.58L210.01,100.36L212.63,100.21L212.74,100.09L217.22,99.19L217.32,99.26L218.63,99.28L218.74,99.02L220.05,98.69L220.16,98.95L220.93,99.22L221.04,99.13L221.15,99L223.87,99.04L223.98,99.61L224.86,99.91L224.97,99.96L226.17,100.29L226.28,100.14L231.41,99.87L231.52,99.39L232.5,98.94L232.61,99.09L232.94,99.2L233.81,99L233.92,99.1L235.34,98.45L235.45,98.67L236.32,97.37L236.43,97.54L236.76,97.41L238.61,97.76L238.72,97.89L239.92,98.16L240.03,97.86L241.45,98.67L241.56,98.55L241.67,98.57L243.74,98.37L243.85,98.5L243.96,99L244.62,98.74L244.73,98.78L247.46,98.41L247.57,98.48L251.39,98.1L251.5,98.15L257.83,96.78L258.15,97.34L258.92,97.43L259.03,97.42L262.74,98.05L262.85,97.59L264.27,97.6L264.38,97.4L266.78,97.88L266.89,97.91L268.2,98.58L268.42,98.13L268.53,98.1L270.71,98.3L270.82,98.38L273.11,98.45L273.44,98.29L274.31,98.17L274.42,98.25L275.19,98.43L275.29,98.27L276.06,98.37L276.17,98.46L278.46,98.57L278.79,98.54L279.88,98.73L280.32,98.46L283.48,97.8L283.59,97.86L284.57,97.45L284.9,97.45L286.76,97.52L286.87,97.44L289.16,97.05L289.49,97.16L290.25,96.77L290.36,97.03L290.47,97.32L292.22,97.09L292.54,97.36L293.42,97.07L293.53,96.98L294.29,97.69L294.4,97.59L294.51,97.58L295.05,97.31L295.27,97.85L295.6,98.11L297.57,97.42L297.89,97.36L298.99,97.14L299.09,97.27L299.42,97.46L301.71,97.91L301.82,98.24L305.64,98.13L305.75,97.88L308.92,97.86L309.36,97.89L309.68,97.65L310.12,98.01L310.23,98.01L311.98,98.53L312.09,98.47L314.82,99.52L314.92,99.22L315.91,98.74L316.23,98.71L316.45,98.79L316.67,98.51L317,98.41L321.58,97.34L321.69,97.48L323.22,97.82L323.33,98.03L324.2,98.37L324.31,98.36L328.57,98.1L328.68,98.6L329.66,98.17L330.1,98.22L334.68,98.01L334.79,98.02L336.32,98.27L336.43,98.51L343.09,98.73L343.2,98.8L346.15,98.76L346.26,98.76L346.91,98.84L347.02,98.68L347.13,98.7L349.97,98.16L350.08,97.93L355.65,97.27L355.97,97.51L361.54,96.2L361.65,96.27L364.49,95.95L364.6,96.19L365.58,95.77L366.02,95.55L367.65,94.54L367.76,94.66L369.73,95.16L369.95,95.72L370.06,96.13L370.71,95.67L370.82,95.8L373,95.75L373.11,95.28L373.77,94.92L373.99,95.04L374.31,94.91L377.04,95.36L377.37,94.91L378.46,94.85L378.57,95.19L380.43,95.37L380.54,95.09L382.28,95.74L382.39,95.86L386.98,95.99L387.31,95.68L388.07,95.46L388.18,95.63L391.56,95.22L391.89,95.18L393.53,95.57L393.64,95.33L393.86,96.09L394.4,95.83L394.51,95.57L397.46,95.73L397.57,95.76L398.88,96.78L398.99,97.25L399.86,96.19L399.97,96.34L400.3,96.55L400.73,96.31L401.06,96.52L401.17,96.59L401.93,96.69L402.04,96.75L403.57,96.17L403.68,96.21L405.32,96.79L405.76,96.68L407.28,95.38L407.39,95.33L407.94,94.76L408.16,94.95L408.27,95.27L408.7,95.59L409.03,95.22L409.14,95.37L411,96.1L411.1,95.82L412.74,96.3L412.85,95.23L413.29,95.39L413.4,94.56L414.82,96.13L414.93,95.84L416.67,96.74L416.78,97.13L418.2,96.36L418.31,96.34L418.96,96.16L419.07,97.1L419.4,96.08L419.73,96.72L419.84,97.16L420.93,97.21L421.04,96.84L421.69,97.18L421.8,96.45L421.91,96.58L422.02,95.99L422.13,95.64L424.97,95.48L425.19,95.75L426.61,94.93L426.72,95.04L427.37,94.62L427.48,94.87L427.81,95.25L428.57,96.42L428.9,95.96L429.01,95.57L429.77,95.93L430.1,95.55L431.19,95.28L431.3,96.27L432.83,96.05L433.16,96.04L433.92,96.04L434.03,96.06L435.56,96.37L435.67,96L435.78,95.88L435.89,96.44L436.21,96.64L437.09,96.69L437.2,96.57L438.51,97.2L438.62,97.03L439.49,96.5L439.6,97.03L440.25,96.85L440.47,97.03L440.8,97.06L441.67,97.12L441.78,97.23L442.55,97.78L442.66,97.56L442.76,97.31L444.18,97.9L444.29,98.29L446.37,98.61L446.48,98.4L451.72,97.1L451.83,97.89L453.9,97.76L454.01,98.1L460.34,97.47L460.67,97.27L461.65,97.32L461.76,96.33L462.2,95.71L462.52,95.99L462.63,96.03L465.25,95.52L465.36,95.68L467.22,95.03L467.55,94.52L468.75,93.44L469.07,93.79L472.35,90.11L472.46,88.79L472.57,88.58L472.9,85.72L473,83.35L473.11,86.72L473.33,86.42L473.66,85.91L473.88,86L473.99,85.19L474.64,82.68L474.86,83.04L475.19,84.53L475.63,88.19L476.06,86.48L476.17,86.39L477.7,94.97L477.92,93.5L478.25,93.35L478.46,91.04L479.12,91.37L479.23,92.31L479.34,92.91L479.77,91.54L479.88,90.9L480.97,86.29L481.3,86.46L481.41,87.78L482.28,85.26L482.39,85.68L482.5,87.46L483.27,84.85L483.7,85.07L483.81,85.47L484.69,84.67L484.8,84.9L485.23,84.86L485.45,85.15L485.56,84.5L485.89,83.11L486.21,83.85L486.32,83.38L486.65,81.96L486.76,82.17L486.87,80.3L487.09,82.29L487.63,81.04L487.74,80.77L488.29,80.82L488.4,81.72L489.27,76.25L489.71,72.65L489.93,72.77L490.04,72.15L490.14,68.82L490.91,69.79L491.24,66.65L491.67,71.64L492.11,70.33L492.22,69.83L492.44,71.34L492.77,70.14L493.09,70.04L493.2,70.85L493.64,72.59L493.75,68.6L495.82,47.9L495.93,50.47L496.7,66.47L497.02,61.78L497.35,56.6L497.46,53.27L498.11,53.31L498.22,56.09L498.33,60.93L498.88,56.42L498.99,56.66L499.21,53.44L499.32,57.1L499.64,55.93L499.75,57.22L500.63,51.99L500.73,53.36L500.84,54.38L501.94,56.52L502.04,56.04L502.37,60.08L502.7,58.71L502.81,56.12L503.03,54.56L503.9,57.82L504.23,57.87L505.43,38.24L505.76,40.25L506.63,31.16L506.85,33.68L506.96,35.57L507.72,26.18L508.05,31.16L508.16,32.21L508.38,29.85L508.81,29.64L508.92,29.38L509.03,26.2L509.91,12.81L510.01,5.74L510.34,13.34L510.78,11.69L511.22,9.66L511.98,5.4L512.09,7.49L512.2,10.66L512.31,15.29L512.74,6.54L512.85,8.54L512.96,9.06L513.4,7.57L513.51,9.11L513.62,14.05L513.84,12.8L514.27,15L514.38,14.78L514.49,15.97L514.6,16.64L515.36,28.33L515.69,23.59L516.46,40.76L516.56,28.54L516.67,29.15L517.22,24.75L517.44,25.42L517.55,30.8L517.98,28.94L518.09,29.8L518.2,33.33L518.31,32.21L518.42,34.6L518.75,35.42L519.62,26.55L519.73,28.83L519.84,27.41L519.95,28.16L520.28,25.41L520.39,18.74L521.04,24.01L521.15,23.53L521.26,20.75L522.13,28.17L522.24,24.58L524.32,40.71L524.42,38.13L524.53,38.78L524.86,35.96L524.97,36.15L525.08,34.56L525.19,33.26L525.73,34.03L525.84,36.11L525.95,39.67L526.61,36.81L526.72,35.55L527.15,34.72\" style=\"vector-effect: none; fill: none; stroke: rgb(99, 110, 250); stroke-opacity: 1; stroke-width: 2px; opacity: 1;\"/></g><g class=\"points\"/><g class=\"text\"/></g></g></g><g class=\"overplot\"/><path class=\"xlines-above crisp\" style=\"fill: none;\"/><path class=\"ylines-above crisp\" style=\"fill: none;\"/><g class=\"overlines-above\"/><g class=\"xaxislayer-above\"/><g class=\"yaxislayer-above\"/><g class=\"overaxes-above\"/></g><rect class=\"rangeslider-mask-min\" x=\"0\" y=\"0\" shape-rendering=\"crispEdges\" height=\"108\" width=\"0\" style=\"fill: rgb(0, 0, 0); fill-opacity: 0.4;\"/><rect class=\"rangeslider-mask-max\" y=\"0\" shape-rendering=\"crispEdges\" height=\"108\" x=\"540\" width=\"0\" style=\"fill: rgb(0, 0, 0); fill-opacity: 0.4;\"/><g class=\"rangeslider-grabber-min\" transform=\"translate(-2.5,0.5)\"><rect class=\"rangeslider-handle-min\" x=\"0\" width=\"4\" rx=\"1\" fill=\"#fff\" stroke=\"#444\" stroke-width=\"1\" shape-rendering=\"crispEdges\" y=\"27\" height=\"54\"/><rect class=\"rangeslider-grabarea-min\" width=\"10\" x=\"0\" y=\"0\" fill=\"transparent\" height=\"108\"/></g><g class=\"rangeslider-grabber-max\" transform=\"translate(538.5,0.5)\"><rect class=\"rangeslider-handle-max\" x=\"0\" width=\"4\" rx=\"1\" fill=\"#fff\" stroke=\"#444\" stroke-width=\"1\" shape-rendering=\"crispEdges\" y=\"27\" height=\"54\"/><rect class=\"rangeslider-grabarea-max\" width=\"10\" x=\"0\" y=\"0\" fill=\"transparent\" height=\"108\"/></g></g><g class=\"g-xtitle\"><text class=\"xtitle\" x=\"350\" y=\"506\" text-anchor=\"middle\" style=\"font-family: 'Open Sans', verdana, arial, sans-serif; font-size: 14px; fill: rgb(42, 63, 95); opacity: 1; font-weight: normal; white-space: pre;\">Date</text></g></g></svg>"
      ]
     },
     "metadata": {},
     "output_type": "display_data"
    }
   ],
   "source": [
    "make_graph(tesla_data,tesla_revenue,'Tesla')"
   ]
  },
  {
   "cell_type": "markdown",
   "metadata": {},
   "source": [
    "## Question 6: Plot GameStop Stock Graph\n"
   ]
  },
  {
   "cell_type": "markdown",
   "metadata": {},
   "source": [
    "Use the `make_graph` function to graph the GameStop Stock Data, also provide a title for the graph. The structure to call the `make_graph` function is `make_graph(gme_data, gme_revenue, 'GameStop')`. Note the graph will only show data upto June 2021.\n"
   ]
  },
  {
   "cell_type": "code",
   "execution_count": 22,
   "metadata": {},
   "outputs": [
    {
     "data": {
      "image/svg+xml": [
       "<svg class=\"main-svg\" xmlns=\"http://www.w3.org/2000/svg\" xmlns:xlink=\"http://www.w3.org/1999/xlink\" width=\"700\" height=\"900\" style=\"\" viewBox=\"0 0 700 900\"><rect x=\"0\" y=\"0\" width=\"700\" height=\"900\" style=\"fill: rgb(255, 255, 255); fill-opacity: 1;\"/><defs id=\"defs-4670d7\"><g class=\"clips\"><clipPath id=\"clip4670d7xyplot\" class=\"plotclip\"><rect width=\"540\" height=\"251.99999999999997\"/></clipPath><clipPath id=\"clip4670d7x2y2plot\" class=\"plotclip\"><rect width=\"540\" height=\"251.99999999999997\"/></clipPath><clipPath class=\"axesclip\" id=\"clip4670d7x\"><rect x=\"80\" y=\"0\" width=\"540\" height=\"900\"/></clipPath><clipPath class=\"axesclip\" id=\"clip4670d7y\"><rect x=\"0\" y=\"100.00000000000009\" width=\"700\" height=\"251.99999999999997\"/></clipPath><clipPath class=\"axesclip\" id=\"clip4670d7xy\"><rect x=\"80\" y=\"100.00000000000009\" width=\"540\" height=\"251.99999999999997\"/></clipPath><clipPath class=\"axesclip\" id=\"clip4670d7y2\"><rect x=\"0\" y=\"568\" width=\"700\" height=\"251.99999999999997\"/></clipPath><clipPath class=\"axesclip\" id=\"clip4670d7xy2\"><rect x=\"80\" y=\"568\" width=\"540\" height=\"251.99999999999997\"/></clipPath><clipPath class=\"axesclip\" id=\"clip4670d7x2\"><rect x=\"80\" y=\"0\" width=\"540\" height=\"900\"/></clipPath><clipPath class=\"axesclip\" id=\"clip4670d7x2y\"><rect x=\"80\" y=\"100.00000000000009\" width=\"540\" height=\"251.99999999999997\"/></clipPath><clipPath class=\"axesclip\" id=\"clip4670d7x2y2\"><rect x=\"80\" y=\"568\" width=\"540\" height=\"251.99999999999997\"/></clipPath></g><g class=\"gradients\"/><g class=\"patterns\"/></defs><g class=\"bglayer\"><rect class=\"bg\" x=\"80\" y=\"100.00000000000009\" width=\"540\" height=\"251.99999999999997\" style=\"fill: rgb(229, 236, 246); fill-opacity: 1; stroke-width: 0;\"/><rect class=\"bg\" x=\"80\" y=\"568\" width=\"540\" height=\"251.99999999999997\" style=\"fill: rgb(229, 236, 246); fill-opacity: 1; stroke-width: 0;\"/></g><g class=\"layer-below\"><g class=\"imagelayer\"/><g class=\"shapelayer\"/></g><g class=\"cartesianlayer\"><g class=\"subplot xy\"><g class=\"layer-subplot\"><g class=\"shapelayer\"/><g class=\"imagelayer\"/></g><g class=\"minor-gridlayer\"><g class=\"x\"/><g class=\"y\"/></g><g class=\"gridlayer\"><g class=\"x\"><path class=\"xgrid crisp\" transform=\"translate(160.53,0)\" d=\"M0,100.00000000000009v251.99999999999997\" style=\"stroke: rgb(255, 255, 255); stroke-opacity: 1; stroke-width: 1px;\"/><path class=\"xgrid crisp\" transform=\"translate(300.18,0)\" d=\"M0,100.00000000000009v251.99999999999997\" style=\"stroke: rgb(255, 255, 255); stroke-opacity: 1; stroke-width: 1px;\"/><path class=\"xgrid crisp\" transform=\"translate(439.82,0)\" d=\"M0,100.00000000000009v251.99999999999997\" style=\"stroke: rgb(255, 255, 255); stroke-opacity: 1; stroke-width: 1px;\"/><path class=\"xgrid crisp\" transform=\"translate(579.47,0)\" d=\"M0,100.00000000000009v251.99999999999997\" style=\"stroke: rgb(255, 255, 255); stroke-opacity: 1; stroke-width: 1px;\"/></g><g class=\"y\"><path class=\"ygrid crisp\" transform=\"translate(0,288.4800000000001)\" d=\"M80,0h540\" style=\"stroke: rgb(255, 255, 255); stroke-opacity: 1; stroke-width: 1px;\"/><path class=\"ygrid crisp\" transform=\"translate(0,235.88000000000008)\" d=\"M80,0h540\" style=\"stroke: rgb(255, 255, 255); stroke-opacity: 1; stroke-width: 1px;\"/><path class=\"ygrid crisp\" transform=\"translate(0,183.29000000000008)\" d=\"M80,0h540\" style=\"stroke: rgb(255, 255, 255); stroke-opacity: 1; stroke-width: 1px;\"/><path class=\"ygrid crisp\" transform=\"translate(0,130.69000000000008)\" d=\"M80,0h540\" style=\"stroke: rgb(255, 255, 255); stroke-opacity: 1; stroke-width: 1px;\"/></g></g><g class=\"zerolinelayer\"><path class=\"yzl zl crisp\" transform=\"translate(0,341.0800000000001)\" d=\"M80,0h540\" style=\"stroke: rgb(255, 255, 255); stroke-opacity: 1; stroke-width: 2px;\"/></g><path class=\"xlines-below\"/><path class=\"ylines-below\"/><g class=\"overlines-below\"/><g class=\"xaxislayer-below\"/><g class=\"yaxislayer-below\"/><g class=\"overaxes-below\"/><g class=\"plot\" transform=\"translate(80,100.00000000000009)\" clip-path=\"url(#clip4670d7xyplot)\"><g class=\"scatterlayer mlayer\"><g class=\"trace scatter trace2ebbc8\" style=\"stroke-miterlimit: 2; opacity: 1;\"><g class=\"fills\"/><g class=\"errorbars\"/><g class=\"lines\"><path class=\"js-line\" d=\"M0,236.63L1.61,236.8L1.68,236.56L1.76,236.45L2.6,236.94L2.68,237.09L3.21,236.52L3.59,236.86L3.67,236.95L6.81,236.32L6.88,236.48L7.11,236.38L7.42,236.54L7.49,236.38L7.57,236.12L8.18,235.73L8.41,235.93L8.49,235.89L11.39,237.16L11.62,237.38L12.24,237.54L12.47,237.2L12.7,237.03L13.46,237.78L13.54,237.7L13.77,237.48L15.07,236.34L15.14,236.48L15.45,236.65L15.52,236.96L16.06,236.48L16.21,236.74L16.44,236.61L18.89,236.58L19.12,236.47L19.96,237.18L20.19,237.08L20.5,237.31L21.26,236.6L21.34,236.85L22.64,236.83L22.87,237.06L24.47,238.93L24.55,238.91L28.45,238.82L28.53,238.73L30.13,238.4L30.36,238.39L37.09,238.26L37.32,238.16L38.01,238.16L38.09,238.22L38.16,238.3L40.69,237.95L40.76,238.07L42.98,237.4L43.29,237.25L44.28,237.27L44.36,237.35L46.73,237.04L46.96,237.08L48.1,237.57L48.18,237.38L48.26,237.34L52.62,237.73L52.85,237.53L53.07,236.97L53.61,237.23L53.69,237.21L59.58,237.02L59.8,236.99L65.23,237.67L65.31,237.59L66.46,237.8L66.53,237.79L70.05,237.53L70.13,237.37L73.19,237.11L73.26,237.14L74.34,236.83L74.41,236.91L74.49,237L75.48,236.65L75.56,236.68L76.63,236.35L76.71,235.88L78.69,236.34L78.77,236.34L81.22,236.79L81.29,236.84L83.89,236.82L83.97,236.72L86.8,236.09L87.11,235.9L87.95,236.26L88.18,236.32L88.41,236.45L88.71,235.83L88.79,235.75L89.55,235.63L89.78,235.4L90.85,235.4L90.93,235.28L91.7,234.47L92,234.63L93.15,233.66L93.22,233.78L94.68,233.76L94.75,233.64L95.75,233.34L95.82,233.27L97.28,233.95L97.35,233.8L97.97,234.56L98.04,233.92L98.12,233.78L99.57,233.06L99.65,233.11L100.57,233.26L100.64,233.75L101.18,233.81L101.33,234.11L101.56,234.23L102.4,234.23L102.63,234.1L103.24,233.18L103.47,233.45L103.7,233.23L104.47,232.94L104.54,233.13L104.77,233.09L106.07,233.64L106.15,233.29L108.6,233.93L108.67,233.68L109.21,232.41L109.36,232.59L109.67,232.61L111.2,231.54L111.5,232.12L111.73,232.18L112.8,232.17L112.88,232.22L113.34,232.05L113.49,232.5L113.57,232.61L114.41,231.92L114.49,231.12L116.86,230.68L117.09,230.73L118.23,230.55L118.31,230.81L119.23,231.49L119.3,231.51L119.53,231.43L119.84,231.74L120.07,231.47L120.3,232.01L120.91,232.33L121.06,231.95L121.14,232.35L121.98,232.94L122.06,232.86L122.13,232.41L122.21,231.78L122.74,232.65L122.97,232.89L123.59,232.35L123.66,232.02L123.82,232.7L124.35,231.74L124.58,231.87L124.66,232.12L124.81,231.25L125.12,231.19L125.19,231.26L125.27,231.39L125.42,230.8L125.73,230.83L125.8,230.68L126.49,231.81L126.72,231.66L126.8,231.54L128.94,230.4L129.02,230.63L129.4,230.87L129.7,230.54L129.93,230.44L131,229.55L131.08,229.81L131.23,229.67L131.69,229.99L131.77,229.95L131.85,229.23L133.15,229.76L133.22,229.35L133.3,228.83L134.37,228.36L134.45,228.42L137.05,228.54L137.12,228.24L138.12,228.74L138.19,229.2L138.27,229.51L138.8,229.15L139.03,229.35L140.26,228.84L140.33,229.06L140.41,229.17L141.33,229.61L141.4,229.18L141.48,229.08L142.78,228.7L142.86,227.29L143.55,226.33L143.85,226.43L144.01,225.88L144.54,226.24L144.62,226.46L144.92,225.61L145.23,226.2L145.46,226.4L146.15,226.25L146.22,226.51L146.3,226.63L146.61,225.91L146.68,225.48L147.14,224.4L147.37,225.24L147.68,225.13L148.13,224.14L148.44,224.58L148.67,224.74L148.75,224.98L148.98,223.72L149.21,223.29L150.05,223.77L150.28,223.28L150.81,221.93L151.35,222.46L151.42,222.66L151.88,222.89L152.04,222.48L152.11,222.9L152.19,223.2L152.65,222.7L152.72,223.57L153.11,221.58L153.18,222.95L153.26,223.43L153.72,223.82L154.18,221.86L154.25,220.07L154.64,220.53L154.86,218.88L155.17,218.45L155.4,219.74L155.86,219.03L155.94,218.12L156.16,218.33L156.24,217.97L156.32,217.44L156.85,215.06L157.31,215.58L157.39,216.02L157.46,216.9L157.92,214.98L158.08,215.67L158.31,215.4L158.54,215.23L158.61,215.96L158.84,215.95L158.92,214.5L159.68,216.06L159.91,215.86L159.99,215.1L160.22,217.72L160.45,218.06L160.68,216.32L161.06,218.5L161.14,219.25L162.28,214.67L162.36,214.17L162.82,215.6L163.12,215.34L163.2,214.09L163.66,213.06L163.97,213.5L164.19,213.59L165.57,219.25L165.88,218.74L166.49,219.35L166.64,217.83L166.87,218.06L167.64,220.82L167.71,220L168.02,220.34L168.63,220.09L168.78,222.33L169.01,222.16L169.09,221.78L169.32,222.19L169.85,219.37L170.08,220.27L170.85,217.18L170.92,218.11L171.15,218.19L171.46,216.1L171.92,216.65L172,216.94L172.45,215.83L172.76,216.48L172.84,216.8L173.52,216.12L173.6,217.18L174.06,218.48L174.14,218.4L174.37,217.13L174.6,216.53L174.67,217.23L174.9,217.97L175.13,219.46L175.74,219.12L175.97,219.32L176.66,222.26L176.81,221.38L177.04,219.86L178.34,223.91L178.65,223.66L178.88,223.85L179.49,221.05L179.72,222.02L179.87,221.5L180.03,222.69L180.25,223.12L180.79,223.63L181.33,220.82L181.4,221.09L181.48,221.51L182.4,221.93L182.47,222L183.01,220.99L183.24,221.77L183.47,221.48L185.15,225.94L185.23,225.13L185.91,228.2L186.14,226.24L186.98,229.69L187.21,229.92L187.44,228.05L187.9,229.89L187.98,230.54L188.06,229.97L188.44,231.32L188.59,230.77L188.82,231.01L189.05,233.33L189.36,232.13L189.43,231.93L190.04,232.74L190.43,230.01L190.5,230.8L190.66,230.97L191.11,229.72L191.27,230.19L191.5,230.84L191.65,230.76L192.19,231.49L192.34,230.81L192.57,230.53L192.72,231.07L192.8,229.76L192.87,229.51L193.26,230.71L193.41,230.15L193.71,230.88L194.33,228.62L194.48,230.11L194.71,229.81L195.01,228.68L195.47,229.13L195.55,229.46L195.93,230.07L196.31,229.47L196.39,228.97L196.47,228.55L196.93,229.58L197,228.99L197.08,230.69L197.16,231.17L197.62,229.84L197.69,229.72L197.92,230.27L198.23,230.08L198.46,229.3L198.69,229.48L200.06,226.79L200.14,227.14L200.22,226.96L200.37,228.32L200.6,228.51L200.9,227.22L201.36,227.73L201.44,228.09L201.74,228.2L201.82,228.9L202.36,229.72L202.51,229.36L202.74,229.45L202.89,229.36L203.43,231.34L203.5,230.66L203.58,230.04L203.81,229.66L204.12,230.5L204.34,230.31L204.42,230.01L204.88,230.6L204.96,230.9L207.02,231.77L207.1,231.5L207.17,231.5L207.86,230.39L208.09,230.66L208.17,230.99L208.32,231.57L208.7,230.27L208.78,230.39L208.86,230.23L209.16,230.38L209.47,229.38L209.7,229.97L210.31,231.15L210.54,230.69L210.77,230.54L210.85,230.76L211.38,230.04L211.46,229.99L211.92,229.86L212.07,229.66L212.15,229.22L213.45,229.56L213.52,229.3L213.6,229.46L213.68,228.96L214.06,228.98L214.13,228.61L215.74,230.57L215.82,230.37L216.12,229.79L216.43,230.59L216.66,230.28L216.73,230.47L216.96,229.8L217.27,229.89L217.35,229.75L217.8,230.53L217.88,231.4L218.42,231.86L218.57,231.46L218.8,231.22L220.56,230.44L220.63,232.02L224.31,232.73L224.38,233.33L224.76,233.34L224.99,233.08L225.22,232.9L225.3,233.09L225.45,232.51L225.83,232.49L225.91,232.29L226.37,231.25L226.6,231.34L226.83,231.44L228.21,230.1L228.44,229.88L229.74,230.82L229.81,231.08L230.19,230.84L230.35,231.41L230.58,231.33L230.81,231.95L231.26,231.49L231.34,230.91L232.34,231.79L232.49,231.49L232.72,231.39L233.48,232.95L233.56,232.89L233.79,232.78L234.02,232.64L234.4,232.93L234.55,232.74L234.63,232.66L237,231.8L237.08,231.99L237.15,232.29L238.68,233.14L238.84,232.89L238.91,232.66L239.98,232.51L240.21,232.42L242.05,232.75L242.12,232.97L243.58,232.43L243.65,232.25L244.65,231.78L244.8,232.17L245.03,232.06L246.25,231.64L246.33,231.5L246.41,231.23L246.94,231.49L247.17,231.67L248.24,230.94L248.32,231.12L248.85,232.14L249.08,232.06L249.39,232.06L250.38,231.75L250.46,231.98L251.07,232.36L251.23,232.1L251.45,232.28L252.3,232.29L252.53,232.25L253.6,232.31L253.67,231.99L255.74,230.57L255.81,230.54L256.5,229.33L256.81,229.35L258.11,229.6L258.18,229.25L259.03,228.85L259.1,228.8L259.56,228.69L259.71,229.01L259.79,229.25L261.09,229.22L261.17,228.9L261.63,229.66L261.93,229.16L262.24,228.95L262.7,229.59L262.77,230.1L263.46,230.76L263.54,230.69L263.77,230.62L264.61,231.28L264.84,231.98L265.68,231.53L265.91,231.51L266.6,230.49L266.67,230.88L266.75,231.27L267.82,230.06L268.2,230.7L268.28,231.07L269.81,229.73L269.96,229.94L270.19,230.35L271.03,229.48L271.26,229.76L271.49,229.65L272.03,230.19L272.1,229.94L272.33,230.17L273.17,231.56L273.4,231.18L274.47,230.14L274.55,230.42L274.63,230.68L275.32,230.49L275.62,230.49L276.31,229.9L276.39,230.07L276.62,230.46L277.84,230.01L277.92,230.15L278.76,230.72L278.83,230.58L278.91,230.24L279.44,230.98L279.6,230.75L279.9,230.7L280.52,230.93L280.59,230.46L280.67,230.44L282.12,230.09L282.2,230.76L282.58,230.49L282.73,231.01L282.81,231.35L283.57,231.34L283.65,231.54L285.41,231.06L285.49,231.35L285.72,231.68L286.4,231.79L286.48,232.83L287.4,232.23L287.47,232.25L288.39,232.87L288.47,232.74L289.46,233.36L289.54,233.23L290.23,232.87L290.3,232.94L290.53,233.21L292.45,233.94L292.68,233.89L293.52,232.74L293.75,232.33L294.36,232.82L294.59,232.4L294.89,231.79L296.12,230.73L296.19,230.93L297.11,231.39L297.19,230.9L297.57,230.16L297.8,230.72L298.03,230.71L299.71,230.19L299.79,230.43L299.86,230.83L299.94,231.02L300.32,230.39L300.4,229.93L301.24,228.76L301.32,228.82L301.39,228.93L301.93,229.15L302.08,228.54L302.31,228.47L302.92,228.35L303,228.42L303.08,229.08L303.69,229.81L303.92,229.55L304.07,229.29L304.61,230.69L304.76,230.4L304.99,230.51L306.36,229.74L306.59,229.48L306.67,228.76L306.75,229.5L307.36,229.25L307.44,229.42L308.51,229.91L308.74,230.15L309.42,229.17L309.58,229.26L309.81,229.13L310.34,229.29L310.49,228.79L310.57,228.09L311.72,226.21L311.95,226.5L312.79,225L313.02,225.02L314.39,222.61L314.62,223.08L315.24,226.35L315.47,225.55L315.69,224.97L316.54,222.81L316.77,223.05L316.92,223.03L316.99,221.91L317.3,222.39L317.53,221.94L317.61,221.4L319.44,220.93L319.52,221.21L320.28,217.48L320.74,218.37L320.82,218.15L321.05,217.91L321.28,218.74L321.35,218.8L321.74,218.78L321.81,216.77L322.12,216.55L322.81,217.7L322.88,216.97L323.42,217.79L323.5,216.38L323.72,216.53L323.8,216.3L324.03,217.8L324.26,217.62L324.57,217.7L324.87,216.96L324.95,217.38L325.02,217.62L325.41,217.85L325.87,216.69L325.94,216.92L327.01,214.97L327.24,215.15L327.47,215.04L327.7,215.73L328.16,213.96L328.24,214.03L328.31,214.46L329.92,219.73L330.15,219.49L330.3,219.67L330.45,218.68L330.68,218.29L331.3,216.94L331.45,217.23L331.53,217.85L331.98,217.56L332.06,217.76L332.29,218.26L332.9,223.88L333.13,223.25L333.44,222.98L333.51,222.49L333.97,224.01L334.05,224.47L334.43,225.06L334.74,224.27L334.97,223.83L335.12,223.79L335.81,224.24L336.04,224.01L336.73,222.73L336.8,222.75L336.88,222.84L337.34,223.35L337.41,222.46L337.64,222.09L337.8,223.11L337.95,223.01L338.18,222.87L338.33,222.5L338.41,223.25L338.48,221.67L338.87,220.36L338.94,219.87L339.56,221.72L339.78,221.41L339.86,221.28L340.4,220.89L340.63,222.27L340.86,221.81L341.54,223.96L341.93,223.49L342,223L342.16,223.94L342.69,223.46L342.77,222.72L343.76,223.4L343.84,223.11L344.3,223.59L344.37,223.25L344.6,222.9L345.37,221.53L345.44,221.63L346.97,221.2L347.05,220.44L347.36,219.83L347.43,219.53L347.81,218.87L347.97,220.29L348.04,220.85L348.66,221.47L348.89,221.01L349.11,220.92L349.19,221.98L349.65,221.57L349.73,220.4L350.26,220.59L350.57,219.83L350.8,219.11L351.1,220.12L351.18,220.13L351.64,219.3L351.87,220.01L352.1,220.01L352.79,221.47L352.94,221.43L353.17,221.87L353.78,223.01L353.93,222.03L354.01,221.72L355.54,219.36L355.62,219.86L355.84,220.32L356.15,219.52L356.61,219.77L356.69,222.55L357.22,222.58L357.45,223.55L357.76,222.77L358.14,224.77L358.22,224.49L358.29,225.27L359.13,224.13L359.36,224.61L359.59,224.61L360.36,224.59L360.43,225.29L361.81,222.35L361.89,222.68L362.04,223.83L362.57,223.09L362.8,222.89L362.88,222.47L363.57,222.72L363.65,222.73L364.18,222.99L364.41,222.16L365.48,220.79L365.56,220.88L366.17,221.42L366.25,221.93L367.16,222.33L367.24,221.96L367.85,220.86L367.93,221.5L368.16,221.17L368.85,221.66L368.92,222.05L369.53,221.23L369.76,221.45L369.84,221.8L370.91,221.24L370.99,221.59L371.68,219.28L371.9,219.65L372.75,219.63L372.98,219.23L373.13,218.9L373.51,219.79L373.66,219.11L373.74,219.39L375.27,217.58L375.35,217.71L376.19,218.7L376.26,218.39L376.49,218.59L377.03,217.46L377.26,217.7L377.79,219.69L377.95,218.5L378.02,218.08L378.41,220.58L378.63,220.36L378.94,220.09L379.55,218.99L379.71,219.85L379.93,220.13L380.47,220.84L380.78,220.24L381.01,219.75L381.85,218.75L382.08,218.62L382.31,217.49L382.61,218.65L382.69,218.86L383.38,217.51L383.45,217.57L383.68,218.23L383.76,218.01L383.91,218.72L383.99,222.41L384.52,221.36L384.83,222.04L384.91,222.68L387.12,226.68L387.43,226.63L388.27,226.68L388.5,226.17L389.19,228.3L389.34,228.05L389.57,228.36L390.34,227.37L390.41,227.47L390.64,226.93L390.87,227.55L391.25,226.87L391.33,226.5L391.48,226.78L392.48,224.48L392.55,225.05L392.78,225.3L392.86,225.62L393.32,224.83L393.39,225.28L393.47,224.7L394.39,225.64L394.47,224.91L394.62,224.8L394.92,225.21L395,225.53L395.15,226.13L395.61,224.93L395.69,224.84L396.68,223.95L396.84,224.25L397.07,224.47L397.91,226.33L398.14,226.19L398.29,226.69L398.82,225.82L398.9,225.69L399.51,226.39L399.74,226.28L400.28,227.55L400.35,227.7L401.04,227.39L401.12,227.9L402.19,226.85L402.42,226.29L402.72,226.53L403.64,224.8L403.8,224.99L404.02,225.3L404.1,225.88L404.71,225.4L404.79,224.9L405.86,224.36L405.94,226.14L406.85,226.26L406.93,226.44L407.01,226.76L407.85,226.48L407.93,226.26L409,226.75L409.07,227.02L409.61,227.66L409.68,227.71L411.6,230.06L411.67,229.74L411.75,229.56L412.74,227.35L412.9,227.48L413.13,227.83L413.43,228.1L413.74,227.77L413.81,227.21L414.88,226.97L414.96,227.68L415.34,227.2L415.57,227.57L415.88,227.52L415.96,227.22L416.11,227.97L416.49,227.92L416.57,227.86L416.64,228.93L417.18,228.47L417.41,228.29L419.7,227.04L419.78,227.41L420.08,226.9L420.16,228.01L420.39,227.56L420.62,227.76L420.93,227.41L421.69,228.11L421.77,228.04L421.92,228.07L422,229.84L422.46,228.89L422.53,228.84L423.45,229.1L423.53,228.93L423.83,228.65L424.9,228.71L424.98,228.35L425.06,228.07L425.13,228.28L425.59,227.53L425.74,228.03L425.97,227.85L427.2,229.06L427.27,228.71L427.35,228.77L428.19,228.94L428.27,229.14L428.34,229.36L428.8,229.78L428.96,229.68L429.19,229.41L429.87,229.2L429.95,229.42L430.03,229.53L432.17,228.97L432.4,228.84L433.7,229.05L433.77,230.37L434.77,230.46L434.84,230.29L436.22,229.45L436.3,229.34L438.06,229.74L438.29,229.66L439.97,231.96L440.05,232.07L442.03,230.13L442.11,230.1L442.87,230.57L443.18,230.45L443.79,230.63L443.95,230.35L444.18,230.03L444.4,229.61L444.48,230.88L444.79,231.22L445.02,230.67L445.55,231.28L445.78,231.23L446.93,232.13L447,231.76L447.08,231.65L448.08,232.07L448.23,231.71L448.46,231.64L449.76,232.94L449.83,233.14L450.22,232.75L450.29,233.65L450.6,233.54L451.75,232.88L451.82,233.04L451.98,233.5L452.51,232.92L452.74,233.05L453.58,233.6L453.81,233.28L453.89,233.13L454.12,233.75L456.03,232.59L456.11,233.03L456.18,233.32L456.56,231.56L457.02,231.95L457.1,232.03L457.63,232.59L457.79,232.24L457.86,231.93L458.63,231.88L458.71,232.27L459.47,232.12L459.7,232.2L459.78,232.37L460.31,231.94L460.39,231.87L461.38,231.12L461.46,230.82L462.15,233.06L462.45,232.59L462.53,231.25L463.22,230.93L463.45,230.81L464.21,231.47L464.29,231.64L466.35,232.15L466.43,232.6L466.97,231.43L467.5,232.03L467.73,232.5L468.34,233.49L468.42,232.6L468.57,232.73L468.95,231.8L469.34,232.51L469.41,232.73L470.64,233.18L470.71,233.47L470.94,233.66L471.25,233.27L471.48,233.05L472.85,230.95L473.16,231.37L473.39,230.97L473.62,231.22L473.69,233.91L475.38,233.96L475.45,234.07L476.37,233.7L476.45,233.73L476.6,234.1L477.14,233.81L477.37,233.8L478.21,234.4L478.44,234.26L479.51,235.2L479.58,235.11L480.73,235.48L480.81,235.31L482.26,235.73L482.34,235.89L483.33,235.94L483.41,237.77L486.62,238.2L486.7,238.32L489.83,238.53L489.91,238.3L490.29,238.57L490.52,238.25L490.75,237.95L490.83,237.73L491.06,238.18L491.44,238.06L491.51,238.16L492.66,237.43L492.89,237.47L493.04,237.8L493.58,237.21L493.66,237.12L496.64,237.12L496.71,237.07L497.48,236.69L497.71,236.92L498.24,237.46L498.55,237.14L498.78,237.39L499.39,237.08L499.54,236.93L500.61,238.04L500.69,237.96L504.29,238.6L504.36,238.48L505.74,238.57L505.82,238.34L505.97,238.18L506.35,238.78L506.43,238.94L506.58,239.24L507.04,238.52L507.34,237.96L507.42,237.17L508.03,237.86L508.11,237.99L508.72,237.1L509.03,237.54L509.1,237.84L510.79,238.23L510.86,238.41L513.23,238.2L513.31,238.23L515.99,238.17L516.06,238.04L516.52,238.22L516.75,237.96L516.98,238.04L517.82,237.54L518.05,236.69L518.28,235.94L518.74,236.25L518.82,236.98L519.43,234.85L519.66,235.33L519.73,234.14L519.89,235.07L520.5,234.91L520.73,234.86L520.8,235.08L520.88,234.93L520.96,232.21L521.26,233.32L521.49,231.99L521.57,232.33L521.8,231.93L522.1,231.22L522.33,232.24L522.64,234.2L523.18,233.28L523.4,233.53L523.71,233.84L523.94,233.15L524.09,233.47L524.17,232.89L525.62,229.94L525.7,232.1L526.08,232.72L527.15,227.28L527.3,228.42L527.38,228.69L527.69,229.74L527.99,229.45L528.22,227.97L529.29,190.59L529.37,143.79L529.45,12.6L530.06,205.9L530.13,199.15L531.21,214.39L531.51,211.51L531.59,180.78L532.66,66.85L532.81,67.18L533.04,96.34L533.73,161.96L533.88,122.08L534.11,121.88L534.19,113.23L534.8,124.07L534.88,129.14L535.26,148.38L535.49,139.37L535.72,133.01L535.95,141.69L536.25,130.01L536.33,124.2L536.41,123.67L536.56,126.95L536.79,134.44L537.32,146.92L537.48,145.88L537.55,132.92L537.63,135.94L537.94,122.29L538.09,128.99L538.16,124.84L538.39,122.73L538.47,103.38L539.08,55.51L539.24,77.79L539.46,56.98L539.62,42.15L539.69,96.18L540,90.23\" style=\"vector-effect: none; fill: none; stroke: rgb(99, 110, 250); stroke-opacity: 1; stroke-width: 2px; opacity: 1;\"/></g><g class=\"points\"/><g class=\"text\"/></g></g></g><g class=\"overplot\"/><path class=\"xlines-above crisp\" d=\"M0,0\" style=\"fill: none;\"/><path class=\"ylines-above crisp\" d=\"M0,0\" style=\"fill: none;\"/><g class=\"overlines-above\"/><g class=\"xaxislayer-above\"/><g class=\"yaxislayer-above\"><g class=\"ytick\"><text text-anchor=\"end\" x=\"79\" y=\"4.199999999999999\" transform=\"translate(0,341.0800000000001)\" style=\"font-family: 'Open Sans', verdana, arial, sans-serif; font-size: 12px; fill: rgb(42, 63, 95); fill-opacity: 1; white-space: pre; opacity: 1;\">0</text></g><g class=\"ytick\"><text text-anchor=\"end\" x=\"79\" y=\"4.199999999999999\" style=\"font-family: 'Open Sans', verdana, arial, sans-serif; font-size: 12px; fill: rgb(42, 63, 95); fill-opacity: 1; white-space: pre; opacity: 1;\" transform=\"translate(0,288.4800000000001)\">20</text></g><g class=\"ytick\"><text text-anchor=\"end\" x=\"79\" y=\"4.199999999999999\" style=\"font-family: 'Open Sans', verdana, arial, sans-serif; font-size: 12px; fill: rgb(42, 63, 95); fill-opacity: 1; white-space: pre; opacity: 1;\" transform=\"translate(0,235.88000000000008)\">40</text></g><g class=\"ytick\"><text text-anchor=\"end\" x=\"79\" y=\"4.199999999999999\" style=\"font-family: 'Open Sans', verdana, arial, sans-serif; font-size: 12px; fill: rgb(42, 63, 95); fill-opacity: 1; white-space: pre; opacity: 1;\" transform=\"translate(0,183.29000000000008)\">60</text></g><g class=\"ytick\"><text text-anchor=\"end\" x=\"79\" y=\"4.199999999999999\" style=\"font-family: 'Open Sans', verdana, arial, sans-serif; font-size: 12px; fill: rgb(42, 63, 95); fill-opacity: 1; white-space: pre; opacity: 1;\" transform=\"translate(0,130.69000000000008)\">80</text></g></g><g class=\"overaxes-above\"/></g><g class=\"subplot x2y2\"><g class=\"layer-subplot\"><g class=\"shapelayer\"/><g class=\"imagelayer\"/></g><g class=\"minor-gridlayer\"><g class=\"x2\"/><g class=\"y2\"/></g><g class=\"gridlayer\"><g class=\"x2\"><path class=\"x2grid crisp\" transform=\"translate(160.53,0)\" d=\"M0,568v251.99999999999997\" style=\"stroke: rgb(255, 255, 255); stroke-opacity: 1; stroke-width: 1px;\"/><path class=\"x2grid crisp\" transform=\"translate(300.18,0)\" d=\"M0,568v251.99999999999997\" style=\"stroke: rgb(255, 255, 255); stroke-opacity: 1; stroke-width: 1px;\"/><path class=\"x2grid crisp\" transform=\"translate(439.82,0)\" d=\"M0,568v251.99999999999997\" style=\"stroke: rgb(255, 255, 255); stroke-opacity: 1; stroke-width: 1px;\"/><path class=\"x2grid crisp\" transform=\"translate(579.47,0)\" d=\"M0,568v251.99999999999997\" style=\"stroke: rgb(255, 255, 255); stroke-opacity: 1; stroke-width: 1px;\"/></g><g class=\"y2\"><path class=\"y2grid crisp\" transform=\"translate(0,799.1800000000001)\" d=\"M80,0h540\" style=\"stroke: rgb(255, 255, 255); stroke-opacity: 1; stroke-width: 1px;\"/><path class=\"y2grid crisp\" transform=\"translate(0,742.28)\" d=\"M80,0h540\" style=\"stroke: rgb(255, 255, 255); stroke-opacity: 1; stroke-width: 1px;\"/><path class=\"y2grid crisp\" transform=\"translate(0,685.38)\" d=\"M80,0h540\" style=\"stroke: rgb(255, 255, 255); stroke-opacity: 1; stroke-width: 1px;\"/><path class=\"y2grid crisp\" transform=\"translate(0,628.48)\" d=\"M80,0h540\" style=\"stroke: rgb(255, 255, 255); stroke-opacity: 1; stroke-width: 1px;\"/><path class=\"y2grid crisp\" transform=\"translate(0,571.58)\" d=\"M80,0h540\" style=\"stroke: rgb(255, 255, 255); stroke-opacity: 1; stroke-width: 1px;\"/></g></g><g class=\"zerolinelayer\"/><path class=\"xlines-below\"/><path class=\"ylines-below\"/><g class=\"overlines-below\"/><g class=\"xaxislayer-below\"/><g class=\"yaxislayer-below\"/><g class=\"overaxes-below\"/><g class=\"plot\" transform=\"translate(80,568)\" clip-path=\"url(#clip4670d7x2y2plot)\"><g class=\"scatterlayer mlayer\"><g class=\"trace scatter trace9078ca\" style=\"stroke-miterlimit: 2; opacity: 1;\"><g class=\"fills\"/><g class=\"errorbars\"/><g class=\"lines\"><path class=\"js-line\" d=\"M499.47,104.12L471.55,52.37L443.64,44.91L415.73,61.47L387.74,21.67L359.82,23.6L331.91,30.89L303.99,35.24L276,16.35L248.09,18.54L220.18,29.81L192.26,37.55L164.27,86.25L136.36,136.75L108.44,200.11L80.53,235.65\" style=\"vector-effect: none; fill: none; stroke: rgb(239, 85, 59); stroke-opacity: 1; stroke-width: 2px; opacity: 1;\"/></g><g class=\"points\"><path class=\"point\" transform=\"translate(499.47,104.12)\" d=\"M3,0A3,3 0 1,1 0,-3A3,3 0 0,1 3,0Z\" style=\"opacity: 1; stroke-width: 0px; fill: rgb(239, 85, 59); fill-opacity: 1;\"/><path class=\"point\" transform=\"translate(471.55,52.37)\" d=\"M3,0A3,3 0 1,1 0,-3A3,3 0 0,1 3,0Z\" style=\"opacity: 1; stroke-width: 0px; fill: rgb(239, 85, 59); fill-opacity: 1;\"/><path class=\"point\" transform=\"translate(443.64,44.91)\" d=\"M3,0A3,3 0 1,1 0,-3A3,3 0 0,1 3,0Z\" style=\"opacity: 1; stroke-width: 0px; fill: rgb(239, 85, 59); fill-opacity: 1;\"/><path class=\"point\" transform=\"translate(415.73,61.47)\" d=\"M3,0A3,3 0 1,1 0,-3A3,3 0 0,1 3,0Z\" style=\"opacity: 1; stroke-width: 0px; fill: rgb(239, 85, 59); fill-opacity: 1;\"/><path class=\"point\" transform=\"translate(387.74,21.67)\" d=\"M3,0A3,3 0 1,1 0,-3A3,3 0 0,1 3,0Z\" style=\"opacity: 1; stroke-width: 0px; fill: rgb(239, 85, 59); fill-opacity: 1;\"/><path class=\"point\" transform=\"translate(359.82,23.6)\" d=\"M3,0A3,3 0 1,1 0,-3A3,3 0 0,1 3,0Z\" style=\"opacity: 1; stroke-width: 0px; fill: rgb(239, 85, 59); fill-opacity: 1;\"/><path class=\"point\" transform=\"translate(331.91,30.89)\" d=\"M3,0A3,3 0 1,1 0,-3A3,3 0 0,1 3,0Z\" style=\"opacity: 1; stroke-width: 0px; fill: rgb(239, 85, 59); fill-opacity: 1;\"/><path class=\"point\" transform=\"translate(303.99,35.24)\" d=\"M3,0A3,3 0 1,1 0,-3A3,3 0 0,1 3,0Z\" style=\"opacity: 1; stroke-width: 0px; fill: rgb(239, 85, 59); fill-opacity: 1;\"/><path class=\"point\" transform=\"translate(276,16.35)\" d=\"M3,0A3,3 0 1,1 0,-3A3,3 0 0,1 3,0Z\" style=\"opacity: 1; stroke-width: 0px; fill: rgb(239, 85, 59); fill-opacity: 1;\"/><path class=\"point\" transform=\"translate(248.09,18.54)\" d=\"M3,0A3,3 0 1,1 0,-3A3,3 0 0,1 3,0Z\" style=\"opacity: 1; stroke-width: 0px; fill: rgb(239, 85, 59); fill-opacity: 1;\"/><path class=\"point\" transform=\"translate(220.18,29.81)\" d=\"M3,0A3,3 0 1,1 0,-3A3,3 0 0,1 3,0Z\" style=\"opacity: 1; stroke-width: 0px; fill: rgb(239, 85, 59); fill-opacity: 1;\"/><path class=\"point\" transform=\"translate(192.26,37.55)\" d=\"M3,0A3,3 0 1,1 0,-3A3,3 0 0,1 3,0Z\" style=\"opacity: 1; stroke-width: 0px; fill: rgb(239, 85, 59); fill-opacity: 1;\"/><path class=\"point\" transform=\"translate(164.27,86.25)\" d=\"M3,0A3,3 0 1,1 0,-3A3,3 0 0,1 3,0Z\" style=\"opacity: 1; stroke-width: 0px; fill: rgb(239, 85, 59); fill-opacity: 1;\"/><path class=\"point\" transform=\"translate(136.36,136.75)\" d=\"M3,0A3,3 0 1,1 0,-3A3,3 0 0,1 3,0Z\" style=\"opacity: 1; stroke-width: 0px; fill: rgb(239, 85, 59); fill-opacity: 1;\"/><path class=\"point\" transform=\"translate(108.44,200.11)\" d=\"M3,0A3,3 0 1,1 0,-3A3,3 0 0,1 3,0Z\" style=\"opacity: 1; stroke-width: 0px; fill: rgb(239, 85, 59); fill-opacity: 1;\"/><path class=\"point\" transform=\"translate(80.53,235.65)\" d=\"M3,0A3,3 0 1,1 0,-3A3,3 0 0,1 3,0Z\" style=\"opacity: 1; stroke-width: 0px; fill: rgb(239, 85, 59); fill-opacity: 1;\"/></g><g class=\"text\"/></g></g></g><g class=\"overplot\"/><path class=\"xlines-above crisp\" d=\"M0,0\" style=\"fill: none;\"/><path class=\"ylines-above crisp\" d=\"M0,0\" style=\"fill: none;\"/><g class=\"overlines-above\"/><g class=\"xaxislayer-above\"><g class=\"x2tick\"><text text-anchor=\"middle\" x=\"0\" y=\"833\" transform=\"translate(160.53,0)\" style=\"font-family: 'Open Sans', verdana, arial, sans-serif; font-size: 12px; fill: rgb(42, 63, 95); fill-opacity: 1; white-space: pre; opacity: 1;\">2005</text></g><g class=\"x2tick\"><text text-anchor=\"middle\" x=\"0\" y=\"833\" style=\"font-family: 'Open Sans', verdana, arial, sans-serif; font-size: 12px; fill: rgb(42, 63, 95); fill-opacity: 1; white-space: pre; opacity: 1;\" transform=\"translate(300.18,0)\">2010</text></g><g class=\"x2tick\"><text text-anchor=\"middle\" x=\"0\" y=\"833\" style=\"font-family: 'Open Sans', verdana, arial, sans-serif; font-size: 12px; fill: rgb(42, 63, 95); fill-opacity: 1; white-space: pre; opacity: 1;\" transform=\"translate(439.82,0)\">2015</text></g><g class=\"x2tick\"><text text-anchor=\"middle\" x=\"0\" y=\"833\" style=\"font-family: 'Open Sans', verdana, arial, sans-serif; font-size: 12px; fill: rgb(42, 63, 95); fill-opacity: 1; white-space: pre; opacity: 1;\" transform=\"translate(579.47,0)\">2020</text></g></g><g class=\"yaxislayer-above\"><g class=\"y2tick\"><text text-anchor=\"end\" x=\"79\" y=\"4.199999999999999\" transform=\"translate(0,799.1800000000001)\" style=\"font-family: 'Open Sans', verdana, arial, sans-serif; font-size: 12px; fill: rgb(42, 63, 95); fill-opacity: 1; white-space: pre; opacity: 1;\">2k</text></g><g class=\"y2tick\"><text text-anchor=\"end\" x=\"79\" y=\"4.199999999999999\" style=\"font-family: 'Open Sans', verdana, arial, sans-serif; font-size: 12px; fill: rgb(42, 63, 95); fill-opacity: 1; white-space: pre; opacity: 1;\" transform=\"translate(0,742.28)\">4k</text></g><g class=\"y2tick\"><text text-anchor=\"end\" x=\"79\" y=\"4.199999999999999\" style=\"font-family: 'Open Sans', verdana, arial, sans-serif; font-size: 12px; fill: rgb(42, 63, 95); fill-opacity: 1; white-space: pre; opacity: 1;\" transform=\"translate(0,685.38)\">6k</text></g><g class=\"y2tick\"><text text-anchor=\"end\" x=\"79\" y=\"4.199999999999999\" style=\"font-family: 'Open Sans', verdana, arial, sans-serif; font-size: 12px; fill: rgb(42, 63, 95); fill-opacity: 1; white-space: pre; opacity: 1;\" transform=\"translate(0,628.48)\">8k</text></g><g class=\"y2tick\"><text text-anchor=\"end\" x=\"79\" y=\"4.199999999999999\" style=\"font-family: 'Open Sans', verdana, arial, sans-serif; font-size: 12px; fill: rgb(42, 63, 95); fill-opacity: 1; white-space: pre; opacity: 1;\" transform=\"translate(0,571.58)\">10k</text></g></g><g class=\"overaxes-above\"/></g></g><g class=\"polarlayer\"/><g class=\"smithlayer\"/><g class=\"ternarylayer\"/><g class=\"geolayer\"/><g class=\"funnelarealayer\"/><g class=\"pielayer\"/><g class=\"iciclelayer\"/><g class=\"treemaplayer\"/><g class=\"sunburstlayer\"/><g class=\"glimages\"/><defs id=\"topdefs-4670d7\"><g class=\"clips\"/><clipPath id=\"rangesliderx-4670d7\"><rect x=\"0\" y=\"0\" width=\"540\" height=\"108\"/></clipPath></defs><g class=\"layer-above\"><g class=\"imagelayer\"/><g class=\"shapelayer\"/></g><g class=\"infolayer\"><g class=\"g-gtitle\"><text class=\"gtitle\" x=\"35\" y=\"50\" text-anchor=\"start\" dy=\"0em\" style=\"font-family: 'Open Sans', verdana, arial, sans-serif; font-size: 17px; fill: rgb(42, 63, 95); opacity: 1; font-weight: normal; white-space: pre;\">GameStop</text></g><g class=\"g-x2title\"><text class=\"x2title\" x=\"350\" y=\"860.3\" text-anchor=\"middle\" style=\"font-family: 'Open Sans', verdana, arial, sans-serif; font-size: 14px; fill: rgb(42, 63, 95); opacity: 1; font-weight: normal; white-space: pre;\">Date</text></g><g class=\"g-ytitle\"><text class=\"ytitle\" transform=\"rotate(-90,39.434375,226.00000000000006)\" x=\"39.434375\" y=\"226.00000000000006\" text-anchor=\"middle\" style=\"font-family: 'Open Sans', verdana, arial, sans-serif; font-size: 14px; fill: rgb(42, 63, 95); opacity: 1; font-weight: normal; white-space: pre;\">Price ($US)</text></g><g class=\"g-y2title\"><text class=\"y2title\" transform=\"rotate(-90,32.340625,694)\" x=\"32.340625\" y=\"694\" text-anchor=\"middle\" style=\"font-family: 'Open Sans', verdana, arial, sans-serif; font-size: 14px; fill: rgb(42, 63, 95); opacity: 1; font-weight: normal; white-space: pre;\">Revenue ($US Millions)</text></g><g class=\"annotation\" data-index=\"0\" style=\"opacity: 1;\"><g class=\"annotation-text-g\" transform=\"rotate(0,350,88.50000000000009)\"><g class=\"cursor-pointer\" transform=\"translate(263,77)\"><rect class=\"bg\" x=\"0.5\" y=\"0.5\" width=\"174\" height=\"22\" style=\"stroke-width: 1px; stroke: rgb(0, 0, 0); stroke-opacity: 0; fill: rgb(0, 0, 0); fill-opacity: 0;\"/><text class=\"annotation-text\" text-anchor=\"middle\" x=\"87.671875\" y=\"18\" style=\"font-family: 'Open Sans', verdana, arial, sans-serif; font-size: 16px; fill: rgb(42, 63, 95); fill-opacity: 1; white-space: pre;\">Historical Share Price</text></g></g></g><g class=\"annotation\" data-index=\"1\" style=\"opacity: 1;\"><g class=\"annotation-text-g\" transform=\"rotate(0,350,556.5)\"><g class=\"cursor-pointer\" transform=\"translate(274,545)\"><rect class=\"bg\" x=\"0.5\" y=\"0.5\" width=\"152\" height=\"22\" style=\"stroke-width: 1px; stroke: rgb(0, 0, 0); stroke-opacity: 0; fill: rgb(0, 0, 0); fill-opacity: 0;\"/><text class=\"annotation-text\" text-anchor=\"middle\" x=\"76.4375\" y=\"18\" style=\"font-family: 'Open Sans', verdana, arial, sans-serif; font-size: 16px; fill: rgb(42, 63, 95); fill-opacity: 1; white-space: pre;\">Historical Revenue</text></g></g></g><g class=\"rangeslider-container\" pointer-events=\"all\" transform=\"translate(80,367)\"><rect class=\"rangeslider-bg\" x=\"0\" y=\"0\" shape-rendering=\"crispEdges\" width=\"540\" height=\"108\" transform=\"\" stroke-width=\"0\" style=\"stroke: rgb(68, 68, 68); stroke-opacity: 1; fill: rgb(229, 236, 246); fill-opacity: 1;\"/><g class=\"rangeslider-rangeplot xy\" clip-path=\"url(#rangesliderx-4670d7)\"><g class=\"layer-subplot\"><g class=\"shapelayer\"/><g class=\"imagelayer\"/></g><g class=\"minor-gridlayer\"><g class=\"x\"/><g class=\"y\"/></g><g class=\"gridlayer\"><g class=\"x\"/><g class=\"y\"/></g><g class=\"zerolinelayer\"/><path class=\"xlines-below\"/><path class=\"ylines-below\"/><g class=\"overlines-below\"/><g class=\"xaxislayer-below\"/><g class=\"yaxislayer-below\"/><g class=\"overaxes-below\"/><g class=\"plot\"><g class=\"scatterlayer mlayer rangeplot\"><g class=\"trace scatter trace2ebbc8\" style=\"stroke-miterlimit: 2; opacity: 1;\"><g class=\"fills\"/><g class=\"errorbars\"/><g class=\"lines\"><path class=\"js-line\" d=\"M0,101.41L5.81,101.51L5.89,101.38L9.71,101.24L9.79,101.33L14.07,101.52L14.3,101.43L15.14,101.35L15.45,101.42L16.21,101.46L16.44,101.4L23.55,102.06L23.63,102.44L62.79,101.7L63.02,101.75L64.39,101.84L64.62,101.81L81.37,101.51L81.45,101.52L92.23,100.37L92.46,100.23L93.61,100.28L93.68,100.24L96.36,100L96.44,99.97L98.65,100.09L98.88,100.12L108.75,99.78L108.83,99.67L114.41,99.39L114.49,99.05L118.39,99.06L118.46,99.15L123.59,99.58L123.66,99.44L123.82,99.73L124.35,99.32L124.58,99.37L125.8,98.86L125.96,99.11L126.19,99.23L129.93,98.76L130.01,98.77L131,98.38L131.08,98.49L131.16,98.61L132.07,98.27L132.15,98.29L133.15,98.47L133.22,98.29L133.3,98.07L134.52,97.84L134.75,97.89L136.51,98.11L136.59,98.06L139.65,98.23L139.72,98.21L142.78,98.01L142.86,97.41L143.55,97L143.85,97.04L144.69,96.86L144.92,96.69L145.76,97.01L145.99,97L150.58,95.44L150.81,95.11L151.58,95.41L151.65,95.37L151.88,95.52L152.65,95.44L152.72,95.82L153.11,94.96L153.49,95.6L153.56,95.72L153.72,95.92L154.02,95.41L154.1,95.17L154.86,93.81L155.17,93.62L155.4,94.17L155.86,93.87L155.94,93.48L156.24,93.41L156.39,92.98L156.47,92.83L157.31,92.39L157.39,92.58L157.46,92.96L157.92,92.13L158.31,92.31L158.38,92.29L159.53,92.08L159.61,92.34L159.68,92.6L159.99,92.19L160.14,92.73L160.22,93.31L160.45,93.45L160.6,93.1L160.68,92.71L161.14,93.96L161.59,93.24L161.67,92.74L162.36,91.79L162.74,92.2L162.82,92.4L164.19,91.54L164.35,91.88L165.57,93.96L165.88,93.74L166.49,94.01L166.64,93.36L166.87,93.45L167.64,94.64L167.71,94.28L168.02,94.43L169.01,95.21L169.09,95.05L169.32,95.22L169.85,94.01L170.08,94.4L170.85,93.08L170.92,93.48L171.15,93.51L171.46,92.62L171.92,92.85L172,92.97L173.52,92.62L173.6,93.08L174.14,93.6L174.44,92.96L174.52,92.89L176.28,94.78L176.51,94.63L176.66,95.25L177.04,94.22L177.12,94.43L177.2,94.47L177.27,94.22L177.81,95.06L177.88,95.19L178.88,95.94L178.95,95.87L179.18,95.68L179.49,94.74L179.95,95.25L180.03,95.44L180.79,95.84L180.87,95.18L180.94,95.2L181.02,95.46L181.33,94.64L181.63,95.12L181.86,94.94L182.7,95L183.01,94.71L184,95.94L184.08,95.72L184.69,96.76L184.84,96.46L185.07,96.83L185.23,96.48L185.61,96.85L185.68,97.49L186.14,96.96L186.3,98.06L186.37,97.47L186.45,97.28L186.68,97.02L186.83,97.96L186.91,98.18L187.21,98.54L187.37,97.74L187.52,98.12L187.75,98.2L187.83,98.06L187.98,98.8L188.28,98.68L188.36,98.88L188.51,98.61L189.05,100L189.13,99.91L189.36,99.49L190.43,98.58L190.5,98.91L191.11,98.45L191.27,98.65L191.5,98.93L192.19,99.21L192.34,98.92L193.41,98.64L193.71,98.95L194.33,97.98L194.48,98.62L194.71,98.49L195.47,98.2L195.55,98.34L195.86,98.57L196.47,97.95L196.62,98.21L196.85,98.37L197,98.14L197.16,99.07L197.39,98.98L198.15,98.5L198.23,98.61L200.06,97.19L200.14,97.35L200.6,97.93L200.9,97.38L201.13,97.54L202.36,98.45L202.43,98.39L202.51,98.3L202.89,98.3L202.97,99.07L204.65,98.74L204.88,98.83L205.72,99.11L205.95,99.11L208.17,98.99L208.25,99.17L209.32,98.46L209.39,98.32L211,98.78L211.07,98.76L213.14,98.38L213.22,98.45L214.75,98.53L214.82,98.62L215.89,98.65L216.12,98.48L216.81,98.75L216.96,98.48L217.19,98.45L217.88,99.17L217.96,99.27L220.56,98.76L220.63,99.44L225.91,99.55L225.99,99.31L229.66,98.67L229.74,98.92L232.79,99.39L232.87,99.59L234.55,99.74L234.63,99.71L237.69,99.38L237.77,99.7L239.83,99.79L239.91,99.64L248.78,99.39L248.85,99.49L250.46,99.42L250.54,99.56L253.21,99.57L253.29,99.61L255.97,98.5L256.04,98.31L258.64,98.14L258.72,98.03L264.61,99.12L264.84,99.42L265.68,99.23L265.91,99.22L266.6,98.78L266.75,99.12L267.06,98.99L272.33,98.65L272.41,98.85L273.17,99.24L273.4,99.08L274.7,98.82L274.78,98.89L276.16,98.81L276.23,98.74L276.77,98.69L276.92,98.86L277.23,98.91L277.84,98.58L277.99,98.71L278.22,98.82L279.98,98.93L280.06,98.87L284.72,99.07L284.8,99.01L286.4,99.34L286.48,99.78L289,99.78L289.08,99.83L291.15,100.1L291.22,100.07L292.68,100.24L292.75,100.08L295.12,99.09L295.35,99.11L296.42,99L296.5,99.25L300.71,98.26L300.78,98.16L302.92,97.86L303,97.9L303.69,98.49L303.92,98.38L304.45,98.45L304.53,98.75L304.61,98.87L305.83,98.65L306.06,98.64L306.59,98.35L306.67,98.04L307.44,98.32L307.74,98.3L308.74,98.63L308.89,98.46L308.96,98.43L313.17,96.4L313.25,96.09L314.24,95.56L314.32,95.75L314.39,95.4L314.85,96.15L314.93,96.93L315.69,96.42L315.77,96.2L316,95.94L316.23,96.3L316.38,95.98L316.46,95.79L316.99,95.1L317.3,95.31L317.38,95.28L318.68,94.65L318.91,94.59L319.98,94.21L320.05,93.9L320.51,93.23L320.82,93.49L321.05,93.39L321.74,93.76L321.81,92.9L323.27,93.16L323.34,93.32L323.8,92.7L324.03,93.34L324.26,93.27L324.87,92.98L325.1,93.09L325.33,93.31L327.62,92.01L327.7,92.46L328.16,91.7L328.31,91.91L328.54,92.21L329.23,93.68L329.38,93.58L329.61,93.79L330.3,94.14L330.38,94.06L330.45,93.72L331.98,93.24L332.06,93.32L332.83,94.12L332.9,95.95L333.51,95.35L333.67,95.91L333.9,95.74L334.51,96.43L334.74,96.11L334.97,95.93L338.48,95L338.71,94.91L338.94,94.23L339.48,94.88L339.56,95.02L340.4,94.67L340.55,95.09L340.63,95.26L341.16,95.15L341.39,95.51L341.47,95.61L342.16,95.98L342.23,95.9L342.46,95.75L344.6,95.53L344.68,95L345.83,94.88L345.9,94.69L347.36,94.21L347.43,94.08L347.81,93.8L348.04,94.65L348.12,94.81L351.03,94.1L351.1,94.34L352.1,94.29L352.17,94.5L352.25,94.33L352.79,94.92L352.86,94.81L353.78,95.58L354.01,95.02L354.24,94.86L355.46,94.36L355.54,94.01L355.92,94.47L356.38,94.14L356.46,94.16L356.61,94.19L356.69,95.38L358.06,95.86L358.14,96.33L358.6,96.63L358.83,96.08L359.06,96.16L359.9,96.23L360.13,96.04L360.74,96.45L360.82,95.73L360.89,96.09L361.5,95.48L361.73,95.32L362.57,95.61L362.8,95.52L363.57,95.45L363.65,95.46L364.72,94.9L364.95,94.76L365.1,95.04L365.71,94.69L365.79,94.66L366.32,95.2L366.55,95.34L371.06,94.66L371.14,94.13L374.2,93.56L374.28,93.31L375.65,93.65L375.73,93.66L376.34,93.42L376.49,93.68L376.72,93.55L378.02,93.46L378.1,94.25L380.24,94.5L380.47,94.65L382.31,93.21L382.38,93.56L383.15,93.38L383.22,93.26L383.3,93.24L383.91,93.74L383.99,95.32L384.83,95.16L384.91,95.43L385.06,95.57L387.66,97.22L387.96,97.16L388.65,97.46L388.73,97.76L391.25,97.23L391.33,97.07L391.94,96.8L392.02,96.68L392.25,96.62L393.32,96.36L393.39,96.55L393.47,96.3L394.08,96.66L394.39,96.7L394.62,96.34L395.08,96.7L395.15,96.91L397.07,96.2L397.14,96.44L398.29,97.15L398.37,97.04L398.44,97.06L400.05,97.41L400.28,97.52L402.72,97.08L402.95,96.59L403.8,96.42L404.02,96.56L404.64,96.72L404.71,96.6L404.79,96.39L405.86,96.15L405.94,96.92L408.08,96.96L408.31,97.08L411.06,98L411.14,98.59L412.13,98.21L412.21,98.11L414.27,97.27L414.35,97.53L416.11,97.7L416.34,97.71L420.08,97.24L420.16,97.72L421.46,97.59L421.69,97.76L421.92,97.74L422,98.5L426.74,97.82L426.81,98.15L428.65,98.4L428.73,98.44L432.09,98.19L432.17,98.13L433.7,98.17L433.77,98.73L435.3,98.47L435.38,98.42L439.66,99.35L439.89,99.41L440.73,99.11L440.96,98.93L441.8,98.59L442.03,98.63L443.79,98.84L443.87,98.81L444.4,98.41L444.48,98.95L444.79,99.1L445.55,99.12L445.78,99.1L447.69,99.39L447.92,99.36L448.69,99.38L448.76,99.32L448.99,99.4L454.96,100.03L455.03,99.94L457.33,99.55L457.56,99.65L459.24,99.49L459.32,99.56L461.61,99.03L461.84,99.51L462.15,99.88L462.45,99.68L462.53,99.11L466.89,99.25L466.97,99.18L468.34,100.07L468.57,99.74L468.8,99.46L469.64,99.7L469.87,99.71L471.48,99.88L471.63,99.76L472.24,98.97L472.55,99.06L472.62,99.09L473.62,99.1L473.69,100.25L477.67,100.38L477.9,100.46L479.58,100.76L479.66,100.8L489.22,102.36L489.3,102.32L495.8,101.63L495.87,101.66L497.71,101.54L497.79,101.49L498.24,101.77L498.55,101.63L498.78,101.74L503.9,102.31L504.13,102.24L507.34,101.98L507.42,101.64L508.19,101.98L508.42,101.68L509.49,101.98L509.56,102.04L510.86,102.18L511.09,102.16L512.77,101.96L512.85,102.08L517.82,101.8L518.05,101.44L518.66,101.15L518.74,101.25L518.82,101.56L520.5,100.67L520.73,100.65L520.88,100.68L520.96,99.52L521.26,100L521.49,99.42L521.57,99.57L521.8,99.4L522.41,99.74L522.49,99.99L523.02,100.25L523.18,99.98L523.4,100.08L524.63,99.16L524.78,98.79L525.62,98.55L525.7,99.47L526.08,99.74L527.15,97.41L527.3,97.89L527.38,98.01L527.99,98.34L528.22,97.7L529.29,81.68L529.37,61.62L529.45,5.4L530.06,88.24L530.13,85.35L531.21,91.88L531.51,90.65L531.59,77.48L532.66,28.65L532.81,28.79L533.04,41.29L533.73,69.41L533.88,52.32L534.11,52.23L534.19,48.53L534.8,53.17L534.88,55.34L535.26,63.59L535.49,59.73L535.72,57L536.02,60.72L536.25,55.72L536.33,53.23L536.41,53L536.56,54.41L536.79,57.62L537.32,62.96L537.48,62.52L537.55,56.97L537.63,58.26L537.94,52.41L538.09,55.28L538.16,53.5L538.39,52.6L538.47,44.31L539.08,23.79L539.24,33.34L539.46,24.42L539.62,18.07L539.69,41.22L540,38.67\" style=\"vector-effect: none; fill: none; stroke: rgb(99, 110, 250); stroke-opacity: 1; stroke-width: 2px; opacity: 1;\"/></g><g class=\"points\"/><g class=\"text\"/></g></g></g><g class=\"overplot\"/><path class=\"xlines-above crisp\" style=\"fill: none;\"/><path class=\"ylines-above crisp\" style=\"fill: none;\"/><g class=\"overlines-above\"/><g class=\"xaxislayer-above\"/><g class=\"yaxislayer-above\"/><g class=\"overaxes-above\"/></g><rect class=\"rangeslider-mask-min\" x=\"0\" y=\"0\" shape-rendering=\"crispEdges\" height=\"108\" width=\"0\" style=\"fill: rgb(0, 0, 0); fill-opacity: 0.4;\"/><rect class=\"rangeslider-mask-max\" y=\"0\" shape-rendering=\"crispEdges\" height=\"108\" x=\"540\" width=\"0\" style=\"fill: rgb(0, 0, 0); fill-opacity: 0.4;\"/><g class=\"rangeslider-grabber-min\" transform=\"translate(-2.5,0.5)\"><rect class=\"rangeslider-handle-min\" x=\"0\" width=\"4\" rx=\"1\" fill=\"#fff\" stroke=\"#444\" stroke-width=\"1\" shape-rendering=\"crispEdges\" y=\"27\" height=\"54\"/><rect class=\"rangeslider-grabarea-min\" width=\"10\" x=\"0\" y=\"0\" fill=\"transparent\" height=\"108\"/></g><g class=\"rangeslider-grabber-max\" transform=\"translate(538.5,0.5)\"><rect class=\"rangeslider-handle-max\" x=\"0\" width=\"4\" rx=\"1\" fill=\"#fff\" stroke=\"#444\" stroke-width=\"1\" shape-rendering=\"crispEdges\" y=\"27\" height=\"54\"/><rect class=\"rangeslider-grabarea-max\" width=\"10\" x=\"0\" y=\"0\" fill=\"transparent\" height=\"108\"/></g></g><g class=\"g-xtitle\"><text class=\"xtitle\" x=\"350\" y=\"506\" text-anchor=\"middle\" style=\"font-family: 'Open Sans', verdana, arial, sans-serif; font-size: 14px; fill: rgb(42, 63, 95); opacity: 1; font-weight: normal; white-space: pre;\">Date</text></g></g></svg>"
      ]
     },
     "metadata": {},
     "output_type": "display_data"
    }
   ],
   "source": [
    "make_graph(gme_data, gme_revenue, 'GameStop')"
   ]
  },
  {
   "cell_type": "markdown",
   "metadata": {},
   "source": [
    "<h2>About the Authors:</h2> \n",
    "\n",
    "<a href=\"https://www.linkedin.com/in/joseph-s-50398b136/\">Joseph Santarcangelo</a> has a PhD in Electrical Engineering, his research focused on using machine learning, signal processing, and computer vision to determine how videos impact human cognition. Joseph has been working for IBM since he completed his PhD.\n",
    "\n",
    "Azim Hirjani\n"
   ]
  },
  {
   "cell_type": "markdown",
   "metadata": {},
   "source": [
    "## Change Log\n",
    "\n",
    "| Date (YYYY-MM-DD) | Version | Changed By    | Change Description        |\n",
    "| ----------------- | ------- | ------------- | ------------------------- |\n",
    "| 2022-02-28        | 1.2     | Lakshmi Holla | Changed the URL of GameStop |\n",
    "| 2020-11-10        | 1.1     | Malika Singla | Deleted the Optional part |\n",
    "| 2020-08-27        | 1.0     | Malika Singla | Added lab to GitLab       |\n",
    "\n",
    "<hr>\n",
    "\n",
    "## <h3 align=\"center\"> © IBM Corporation 2020. All rights reserved. <h3/>\n",
    "\n",
    "<p>\n"
   ]
  },
  {
   "cell_type": "code",
   "execution_count": null,
   "metadata": {},
   "outputs": [],
   "source": []
  }
 ],
 "metadata": {
  "kernelspec": {
   "display_name": "Python 3 (ipykernel)",
   "language": "python",
   "name": "python3"
  },
  "language_info": {
   "codemirror_mode": {
    "name": "ipython",
    "version": 3
   },
   "file_extension": ".py",
   "mimetype": "text/x-python",
   "name": "python",
   "nbconvert_exporter": "python",
   "pygments_lexer": "ipython3",
   "version": "3.10.13"
  }
 },
 "nbformat": 4,
 "nbformat_minor": 4
}
