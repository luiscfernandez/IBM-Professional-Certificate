{
 "cells": [
  {
   "cell_type": "markdown",
   "id": "63bafc8c-a80e-44bd-982c-3bc1d9712190",
   "metadata": {},
   "source": [
    "# Data Science Tools and Ecosystem"
   ]
  },
  {
   "cell_type": "markdown",
   "id": "6c90747d-6e00-4d33-9802-007baaf469dc",
   "metadata": {},
   "source": [
    "## Author\n",
    "Luis Fernandez"
   ]
  },
  {
   "cell_type": "markdown",
   "id": "40039835-6131-4374-a8ff-83daf7828755",
   "metadata": {},
   "source": [
    "In this notebook, Data Science Tools and Ecosystem are summarized."
   ]
  },
  {
   "cell_type": "markdown",
   "id": "a83db890-0b36-4bba-a398-8ad4724e9b6f",
   "metadata": {},
   "source": [
    "**Objectives:**\n",
    "- List Popular Languages for Data Science.\n",
    "- List commonly used libraries for Data Science.\n",
    "- Create a Table of development environment open source tools used for Data Science.\n",
    "- Solve a simple arithmetic expression to mutiply then add integers\n",
    "- Convert 200 minutes to hours "
   ]
  },
  {
   "cell_type": "markdown",
   "id": "e9801f05-ac8f-4919-b8b3-f3103e18df49",
   "metadata": {},
   "source": [
    "Some of the popular languages that Data Scientists use are:\n",
    "\n",
    "1. Python\n",
    "2. R\n",
    "3. SQL\n",
    "4. Scala\n",
    "5. Java\n",
    "6. C++\n",
    "   \n"
   ]
  },
  {
   "cell_type": "markdown",
   "id": "1287a599-1cf9-45c1-880f-81a70e93cdd0",
   "metadata": {},
   "source": [
    "Some of the commonly used libraries used by Data Scientists include:\n",
    "\n",
    "1. NumPy\n",
    "2. Pandas\n",
    "3. Matplotlib\n",
    "4. Seaborn\n",
    "5. ggplot\n",
    "6. Scikit-learn\n",
    "7. TensorFlow\n",
    "8. PyTorch"
   ]
  },
  {
   "cell_type": "markdown",
   "id": "04d936e4-8ba9-4d43-bea7-e51cbfec5f3e",
   "metadata": {},
   "source": [
    "| **Data Science Tools** |\n",
    "| ---------------------- |\n",
    "|       Spyder           |\n",
    "|       RStudio          |\n",
    "|     Jupyter Lab        |"
   ]
  },
  {
   "cell_type": "markdown",
   "id": "97dbc56f-c9ae-4c72-abe8-090a25441732",
   "metadata": {},
   "source": [
    "### Below are a few examples of evaluating arithmetic expressions in Python\n",
    "\n"
   ]
  },
  {
   "cell_type": "code",
   "execution_count": 1,
   "id": "80f164eb-5aa1-4b42-861e-4f690dd39426",
   "metadata": {},
   "outputs": [
    {
     "data": {
      "text/plain": [
       "17"
      ]
     },
     "execution_count": 1,
     "metadata": {},
     "output_type": "execute_result"
    }
   ],
   "source": [
    "# This a simple arithmetic expression to mutiply then add integers\n",
    "\n",
    "(3*4)+5"
   ]
  },
  {
   "cell_type": "code",
   "execution_count": 3,
   "id": "7c715240-1aec-4c76-a927-cd1e9278b4d0",
   "metadata": {},
   "outputs": [
    {
     "name": "stdout",
     "output_type": "stream",
     "text": [
      "3.3333333333333335\n"
     ]
    }
   ],
   "source": [
    "# This will convert 200 minutes to hours by diving by 60\n",
    "\n",
    "minutes = 200\n",
    "\n",
    "hours = minutes / 60\n",
    "\n",
    "print(hours)\n"
   ]
  }
 ],
 "metadata": {
  "kernelspec": {
   "display_name": "Python 3 (ipykernel)",
   "language": "python",
   "name": "python3"
  },
  "language_info": {
   "codemirror_mode": {
    "name": "ipython",
    "version": 3
   },
   "file_extension": ".py",
   "mimetype": "text/x-python",
   "name": "python",
   "nbconvert_exporter": "python",
   "pygments_lexer": "ipython3",
   "version": "3.10.13"
  }
 },
 "nbformat": 4,
 "nbformat_minor": 5
}
